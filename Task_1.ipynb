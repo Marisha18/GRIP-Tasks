{
 "cells": [
  {
   "cell_type": "markdown",
   "id": "440edc0f",
   "metadata": {},
   "source": [
    "# Task 1: Prediction using Supervised ML\n",
    "## <blockquote>Simple Linear Regression Task <br>Predict the percentage of an student based on the number of study hours.</blockquote>\n",
    "### Author: Marisha Bhatti\n",
    "<br>\n",
    "<br>"
   ]
  },
  {
   "cell_type": "markdown",
   "id": "6e03a3d0",
   "metadata": {},
   "source": [
    "  - <b>Step 1:</b> Import all required libraries."
   ]
  },
  {
   "cell_type": "code",
   "execution_count": 1,
   "id": "72224ac2",
   "metadata": {},
   "outputs": [],
   "source": [
    "import numpy as np\n",
    "import pandas as pd\n",
    "import matplotlib.pyplot as plt\n",
    "%matplotlib inline"
   ]
  },
  {
   "cell_type": "markdown",
   "id": "3d080497",
   "metadata": {},
   "source": [
    " - <b>Step 2:</b> Import and visualise the dataset"
   ]
  },
  {
   "cell_type": "code",
   "execution_count": 2,
   "id": "a2002099",
   "metadata": {},
   "outputs": [
    {
     "data": {
      "text/html": [
       "<div>\n",
       "<style scoped>\n",
       "    .dataframe tbody tr th:only-of-type {\n",
       "        vertical-align: middle;\n",
       "    }\n",
       "\n",
       "    .dataframe tbody tr th {\n",
       "        vertical-align: top;\n",
       "    }\n",
       "\n",
       "    .dataframe thead th {\n",
       "        text-align: right;\n",
       "    }\n",
       "</style>\n",
       "<table border=\"1\" class=\"dataframe\">\n",
       "  <thead>\n",
       "    <tr style=\"text-align: right;\">\n",
       "      <th></th>\n",
       "      <th>Hours</th>\n",
       "      <th>Scores</th>\n",
       "    </tr>\n",
       "  </thead>\n",
       "  <tbody>\n",
       "    <tr>\n",
       "      <th>0</th>\n",
       "      <td>2.5</td>\n",
       "      <td>21</td>\n",
       "    </tr>\n",
       "    <tr>\n",
       "      <th>1</th>\n",
       "      <td>5.1</td>\n",
       "      <td>47</td>\n",
       "    </tr>\n",
       "    <tr>\n",
       "      <th>2</th>\n",
       "      <td>3.2</td>\n",
       "      <td>27</td>\n",
       "    </tr>\n",
       "    <tr>\n",
       "      <th>3</th>\n",
       "      <td>8.5</td>\n",
       "      <td>75</td>\n",
       "    </tr>\n",
       "    <tr>\n",
       "      <th>4</th>\n",
       "      <td>3.5</td>\n",
       "      <td>30</td>\n",
       "    </tr>\n",
       "    <tr>\n",
       "      <th>5</th>\n",
       "      <td>1.5</td>\n",
       "      <td>20</td>\n",
       "    </tr>\n",
       "    <tr>\n",
       "      <th>6</th>\n",
       "      <td>9.2</td>\n",
       "      <td>88</td>\n",
       "    </tr>\n",
       "    <tr>\n",
       "      <th>7</th>\n",
       "      <td>5.5</td>\n",
       "      <td>60</td>\n",
       "    </tr>\n",
       "    <tr>\n",
       "      <th>8</th>\n",
       "      <td>8.3</td>\n",
       "      <td>81</td>\n",
       "    </tr>\n",
       "    <tr>\n",
       "      <th>9</th>\n",
       "      <td>2.7</td>\n",
       "      <td>25</td>\n",
       "    </tr>\n",
       "  </tbody>\n",
       "</table>\n",
       "</div>"
      ],
      "text/plain": [
       "   Hours  Scores\n",
       "0    2.5      21\n",
       "1    5.1      47\n",
       "2    3.2      27\n",
       "3    8.5      75\n",
       "4    3.5      30\n",
       "5    1.5      20\n",
       "6    9.2      88\n",
       "7    5.5      60\n",
       "8    8.3      81\n",
       "9    2.7      25"
      ]
     },
     "execution_count": 2,
     "metadata": {},
     "output_type": "execute_result"
    }
   ],
   "source": [
    "# Import the dataset\n",
    "df = pd.read_csv('http://bit.ly/w-data')\n",
    "df.head(10)\n",
    "# len(df) # checking the length of the imported dataset (25)"
   ]
  },
  {
   "cell_type": "code",
   "execution_count": 3,
   "id": "7bd5476c",
   "metadata": {},
   "outputs": [
    {
     "data": {
      "image/png": "[encoded data removed]",
      "text/plain": [
       "<Figure size 432x288 with 1 Axes>"
      ]
     },
     "metadata": {
      "needs_background": "light"
     },
     "output_type": "display_data"
    }
   ],
   "source": [
    "# Plot the distribution\n",
    "df.plot(x='Hours', y='Scores', style='o')  \n",
    "plt.title('Hours vs Percentage')  \n",
    "plt.xlabel('Hours Studied')  \n",
    "plt.ylabel('Percentage Score')  \n",
    "plt.show()"
   ]
  },
  {
   "cell_type": "markdown",
   "id": "138e90f6",
   "metadata": {},
   "source": [
    "The distribution of scores is plotted to visualise the data and understand the relationship. The graph indicates a positive linear relationship between the number of hours studied and percentage of score."
   ]
  },
  {
   "cell_type": "markdown",
   "id": "7a8743ae",
   "metadata": {},
   "source": [
    " - <b>Step 3:</b> Prepare the data"
   ]
  },
  {
   "cell_type": "code",
   "execution_count": 4,
   "id": "b2352cfc",
   "metadata": {},
   "outputs": [],
   "source": [
    "# Divide the data into \"attributes\" (inputs) and \"labels\" (outputs)\n",
    "X = df.iloc[:, :-1].values  \n",
    "y = df.iloc[:, 1].values"
   ]
  },
  {
   "cell_type": "code",
   "execution_count": 5,
   "id": "c1b3eb13",
   "metadata": {},
   "outputs": [
    {
     "name": "stdout",
     "output_type": "stream",
     "text": [
      "[[1.5]\n",
      " [3.2]\n",
      " [7.4]\n",
      " [2.5]\n",
      " [5.9]]\n"
     ]
    }
   ],
   "source": [
    "# Split the data into training and test sets\n",
    "from sklearn.model_selection import train_test_split\n",
    "train_X, val_X, train_y, val_y = train_test_split(X, y, test_size=0.2, random_state=0)\n",
    "\n",
    "print(val_X) # Testing data - In Hours"
   ]
  },
  {
   "cell_type": "markdown",
   "id": "1db08638",
   "metadata": {},
   "source": [
    "Here, the length of testing data is 5 which is 20% of 25 (length of original dataset). The general split ratio has been taken into consideration, but it can be changed using the test_size attribute to train_test_split function."
   ]
  },
  {
   "cell_type": "markdown",
   "id": "a9fb8ea4",
   "metadata": {},
   "source": [
    " - <b>Step 4:</b> Build and Train the model"
   ]
  },
  {
   "cell_type": "code",
   "execution_count": 6,
   "id": "a3c85801",
   "metadata": {},
   "outputs": [
    {
     "name": "stdout",
     "output_type": "stream",
     "text": [
      "Training complete.\n"
     ]
    }
   ],
   "source": [
    "from sklearn.linear_model import LinearRegression\n",
    "\n",
    "model=LinearRegression()\n",
    "model.fit(train_X,train_y)\n",
    "\n",
    "print(\"Training complete.\")"
   ]
  },
  {
   "cell_type": "markdown",
   "id": "8bddef37",
   "metadata": {},
   "source": [
    " - <b>Step 5:</b> Making Predictions"
   ]
  },
  {
   "cell_type": "code",
   "execution_count": 7,
   "id": "e7e7a895",
   "metadata": {},
   "outputs": [],
   "source": [
    "# Predict the scores\n",
    "pred_y = model.predict(val_X)"
   ]
  },
  {
   "cell_type": "code",
   "execution_count": 8,
   "id": "b9946964",
   "metadata": {},
   "outputs": [
    {
     "data": {
      "text/html": [
       "<div>\n",
       "<style scoped>\n",
       "    .dataframe tbody tr th:only-of-type {\n",
       "        vertical-align: middle;\n",
       "    }\n",
       "\n",
       "    .dataframe tbody tr th {\n",
       "        vertical-align: top;\n",
       "    }\n",
       "\n",
       "    .dataframe thead th {\n",
       "        text-align: right;\n",
       "    }\n",
       "</style>\n",
       "<table border=\"1\" class=\"dataframe\">\n",
       "  <thead>\n",
       "    <tr style=\"text-align: right;\">\n",
       "      <th></th>\n",
       "      <th>Actual</th>\n",
       "      <th>Predicted</th>\n",
       "    </tr>\n",
       "  </thead>\n",
       "  <tbody>\n",
       "    <tr>\n",
       "      <th>0</th>\n",
       "      <td>20</td>\n",
       "      <td>16.884145</td>\n",
       "    </tr>\n",
       "    <tr>\n",
       "      <th>1</th>\n",
       "      <td>27</td>\n",
       "      <td>33.732261</td>\n",
       "    </tr>\n",
       "    <tr>\n",
       "      <th>2</th>\n",
       "      <td>69</td>\n",
       "      <td>75.357018</td>\n",
       "    </tr>\n",
       "    <tr>\n",
       "      <th>3</th>\n",
       "      <td>30</td>\n",
       "      <td>26.794801</td>\n",
       "    </tr>\n",
       "    <tr>\n",
       "      <th>4</th>\n",
       "      <td>62</td>\n",
       "      <td>60.491033</td>\n",
       "    </tr>\n",
       "  </tbody>\n",
       "</table>\n",
       "</div>"
      ],
      "text/plain": [
       "   Actual  Predicted\n",
       "0      20  16.884145\n",
       "1      27  33.732261\n",
       "2      69  75.357018\n",
       "3      30  26.794801\n",
       "4      62  60.491033"
      ]
     },
     "execution_count": 8,
     "metadata": {},
     "output_type": "execute_result"
    }
   ],
   "source": [
    "# Compare Actual vs Predicted Scores\n",
    "df = pd.DataFrame({'Actual': val_y, 'Predicted': pred_y})  \n",
    "df "
   ]
  },
  {
   "cell_type": "markdown",
   "id": "2d09dee9",
   "metadata": {},
   "source": [
    " - <b>Step 6:</b> Plot the Regression Line and compare it to actual test data"
   ]
  },
  {
   "cell_type": "code",
   "execution_count": 9,
   "id": "46469ece",
   "metadata": {
    "scrolled": true
   },
   "outputs": [
    {
     "data": {
      "image/png": "[encoded data removed]",
      "text/plain": [
       "<Figure size 432x288 with 1 Axes>"
      ]
     },
     "metadata": {
      "needs_background": "light"
     },
     "output_type": "display_data"
    }
   ],
   "source": [
    "# Plot Regression Line\n",
    "plt.plot(val_X,pred_y,color='blue',label=\"line of Regression\")\n",
    "\n",
    "# Plot Actual Data\n",
    "plt.scatter(val_X,val_y,color='blue', label=\"Testing data\")\n",
    "plt.title('Hours vs Percentage')\n",
    "plt.xlabel('Hours Studied')  \n",
    "plt.ylabel('Percentage Scored') \n",
    "plt.legend()\n",
    "plt.show()"
   ]
  },
  {
   "cell_type": "markdown",
   "id": "39218bb5",
   "metadata": {},
   "source": [
    " - <b>Step 7:</b> Model Evaluation"
   ]
  },
  {
   "cell_type": "markdown",
   "id": "908f8d9c",
   "metadata": {},
   "source": [
    "Mean Absolute Error: Absolute error refers to the magnitude of difference between the prediction of an observation and the true value of that observation.<br>\n",
    "R2 Score: coefficient of determination; (total variance explained by model) / (total variance); The value ranges from 0 to 1 and should ideally be close to 1."
   ]
  },
  {
   "cell_type": "code",
   "execution_count": 10,
   "id": "98b73a52",
   "metadata": {},
   "outputs": [
    {
     "name": "stdout",
     "output_type": "stream",
     "text": [
      "Mean Absolute Error: 4.183859899002982\n",
      "R2 Score: 0.9454906892105354\n"
     ]
    }
   ],
   "source": [
    "from sklearn import metrics\n",
    "\n",
    "print('Mean Absolute Error:', metrics.mean_absolute_error(val_y, pred_y)) \n",
    "print('R2 Score:', metrics.r2_score(val_y, pred_y))"
   ]
  },
  {
   "cell_type": "markdown",
   "id": "120b4a12",
   "metadata": {},
   "source": [
    " - Testing our own data: What will be predicted score if a student studies for 9.25 hrs/ day?"
   ]
  },
  {
   "cell_type": "code",
   "execution_count": 11,
   "id": "e44e1a91",
   "metadata": {},
   "outputs": [
    {
     "name": "stdout",
     "output_type": "stream",
     "text": [
      "Predicted score from graph = 93.69173248737539\n",
      "Predicted score from model =  93.69173248737539\n"
     ]
    }
   ],
   "source": [
    "# Method 1: using regression line\n",
    "m=model.coef_\n",
    "c=model.intercept_\n",
    "x=9.25\n",
    "y=m*x+c\n",
    "print('Predicted score from graph =', y[0])\n",
    "\n",
    "# Method 2: using the predict function\n",
    "hours = [[9.25]]\n",
    "test_case = model.predict(hours)\n",
    "print(\"Predicted score from model = \", test_case[0])"
   ]
  },
  {
   "cell_type": "markdown",
   "id": "c0d0c47e",
   "metadata": {},
   "source": [
    "Both methods make use of the same model, just different approaches, hence the same score."
   ]
  },
  {
   "cell_type": "markdown",
   "id": "f639fe43",
   "metadata": {},
   "source": [
    "# <b>_____________</b>"
   ]
  }
 ],
 "metadata": {
  "kernelspec": {
   "display_name": "Python 3",
   "language": "python",
   "name": "python3"
  },
  "language_info": {
   "codemirror_mode": {
    "name": "ipython",
    "version": 3
   },
   "file_extension": ".py",
   "mimetype": "text/x-python",
   "name": "python",
   "nbconvert_exporter": "python",
   "pygments_lexer": "ipython3",
   "version": "3.6.9"
  }
 },
 "nbformat": 4,
 "nbformat_minor": 5
}
