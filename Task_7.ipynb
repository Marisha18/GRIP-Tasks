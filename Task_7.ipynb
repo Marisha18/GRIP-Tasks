{
 "cells": [
  {
   "cell_type": "markdown",
   "id": "d0d6aa61",
   "metadata": {},
   "source": [
    "# Task 7: Stock Market Prediction using Numerical and Textual analysis\n",
    "## <blockquote>Create a hybrid model for stock price/performance prediction using numerical analysis of historical stock prices, and sentimental analysis of news headlines.</blockquote>\n",
    "### Author: Marisha Bhatti\n",
    "<br>\n",
    "<br>"
   ]
  },
  {
   "cell_type": "markdown",
   "id": "ae8b7b9c",
   "metadata": {},
   "source": [
    "  - <b>Step 1:</b> Import all required libraries."
   ]
  },
  {
   "cell_type": "code",
   "execution_count": 1,
   "id": "d6fdd5e3",
   "metadata": {},
   "outputs": [
    {
     "name": "stderr",
     "output_type": "stream",
     "text": [
      "[nltk_data] Downloading package stopwords to\n",
      "[nltk_data]     /home/marisha/nltk_data...\n",
      "[nltk_data]   Package stopwords is already up-to-date!\n",
      "[nltk_data] Downloading package wordnet to /home/marisha/nltk_data...\n",
      "[nltk_data]   Package wordnet is already up-to-date!\n",
      "[nltk_data] Downloading package punkt to /home/marisha/nltk_data...\n",
      "[nltk_data]   Package punkt is already up-to-date!\n",
      "[nltk_data] Downloading package vader_lexicon to\n",
      "[nltk_data]     /home/marisha/nltk_data...\n",
      "[nltk_data]   Package vader_lexicon is already up-to-date!\n"
     ]
    },
    {
     "data": {
      "text/plain": [
       "True"
      ]
     },
     "execution_count": 1,
     "metadata": {},
     "output_type": "execute_result"
    }
   ],
   "source": [
    "import pandas as pd                  #for data wrangling and data manipulation\n",
    "import numpy as np                   #for numerical and scientific computing\n",
    "import matplotlib.pyplot as plt      #for data visualization and graphical plotting\n",
    "import seaborn as sns                #for data visualization, built on matplotlib\n",
    "\n",
    "## Import Machine Learning Libraries\n",
    "from sklearn.model_selection import train_test_split\n",
    "from sklearn.tree import DecisionTreeClassifier\n",
    "from sklearn.feature_extraction.text import CountVectorizer\n",
    "from sklearn.ensemble import RandomForestClassifier\n",
    "from sklearn import metrics\n",
    "from sklearn.model_selection import GridSearchCV\n",
    "from sklearn.preprocessing import StandardScaler\n",
    "\n",
    "## Import Text Analysis Libraries\n",
    "# !pip install textblob \n",
    "# !pip install twython  #incase they need to be installed\n",
    "from textblob import TextBlob\n",
    "import nltk\n",
    "from nltk.tokenize import sent_tokenize, word_tokenize\n",
    "from nltk.stem import PorterStemmer\n",
    "from nltk.corpus import stopwords\n",
    "from nltk.sentiment.vader import SentimentIntensityAnalyzer\n",
    "nltk.download('stopwords')\n",
    "nltk.download('wordnet')\n",
    "nltk.download('punkt')\n",
    "nltk.download('vader_lexicon')"
   ]
  },
  {
   "cell_type": "markdown",
   "id": "5b0f4078",
   "metadata": {},
   "source": [
    " "
   ]
  },
  {
   "cell_type": "markdown",
   "id": "747b4a2e",
   "metadata": {},
   "source": [
    " - <b>Step 2:</b> Import and visualise the SENSEX dataset for numerical analysis"
   ]
  },
  {
   "cell_type": "markdown",
   "id": "71206a07",
   "metadata": {},
   "source": [
    "Download historical stock prices from finance.yahoo.com or use SENSEX.csv file in the repository"
   ]
  },
  {
   "cell_type": "code",
   "execution_count": 2,
   "id": "e6048dbc",
   "metadata": {
    "scrolled": false
   },
   "outputs": [
    {
     "data": {
      "text/html": [
       "<div>\n",
       "<style scoped>\n",
       "    .dataframe tbody tr th:only-of-type {\n",
       "        vertical-align: middle;\n",
       "    }\n",
       "\n",
       "    .dataframe tbody tr th {\n",
       "        vertical-align: top;\n",
       "    }\n",
       "\n",
       "    .dataframe thead th {\n",
       "        text-align: right;\n",
       "    }\n",
       "</style>\n",
       "<table border=\"1\" class=\"dataframe\">\n",
       "  <thead>\n",
       "    <tr style=\"text-align: right;\">\n",
       "      <th></th>\n",
       "      <th>Date</th>\n",
       "      <th>Open</th>\n",
       "      <th>High</th>\n",
       "      <th>Low</th>\n",
       "      <th>Close</th>\n",
       "      <th>Adj Close</th>\n",
       "      <th>Volume</th>\n",
       "    </tr>\n",
       "  </thead>\n",
       "  <tbody>\n",
       "    <tr>\n",
       "      <th>0</th>\n",
       "      <td>2001-01-02</td>\n",
       "      <td>483.549988</td>\n",
       "      <td>483.549988</td>\n",
       "      <td>461.380005</td>\n",
       "      <td>462.489990</td>\n",
       "      <td>462.489990</td>\n",
       "      <td>1129400000</td>\n",
       "    </tr>\n",
       "    <tr>\n",
       "      <th>1</th>\n",
       "      <td>2001-01-03</td>\n",
       "      <td>462.489990</td>\n",
       "      <td>484.390015</td>\n",
       "      <td>459.279999</td>\n",
       "      <td>484.390015</td>\n",
       "      <td>484.390015</td>\n",
       "      <td>188070000</td>\n",
       "    </tr>\n",
       "    <tr>\n",
       "      <th>2</th>\n",
       "      <td>2001-01-04</td>\n",
       "      <td>484.390015</td>\n",
       "      <td>484.390015</td>\n",
       "      <td>475.899994</td>\n",
       "      <td>477.200012</td>\n",
       "      <td>477.200012</td>\n",
       "      <td>216940000</td>\n",
       "    </tr>\n",
       "    <tr>\n",
       "      <th>3</th>\n",
       "      <td>2001-01-05</td>\n",
       "      <td>477.200012</td>\n",
       "      <td>477.309998</td>\n",
       "      <td>461.760010</td>\n",
       "      <td>463.140015</td>\n",
       "      <td>463.140015</td>\n",
       "      <td>1430800000</td>\n",
       "    </tr>\n",
       "    <tr>\n",
       "      <th>4</th>\n",
       "      <td>2001-01-08</td>\n",
       "      <td>463.140015</td>\n",
       "      <td>463.140015</td>\n",
       "      <td>457.559998</td>\n",
       "      <td>461.640015</td>\n",
       "      <td>461.640015</td>\n",
       "      <td>1115500000</td>\n",
       "    </tr>\n",
       "  </tbody>\n",
       "</table>\n",
       "</div>"
      ],
      "text/plain": [
       "         Date        Open        High         Low       Close   Adj Close  \\\n",
       "0  2001-01-02  483.549988  483.549988  461.380005  462.489990  462.489990   \n",
       "1  2001-01-03  462.489990  484.390015  459.279999  484.390015  484.390015   \n",
       "2  2001-01-04  484.390015  484.390015  475.899994  477.200012  477.200012   \n",
       "3  2001-01-05  477.200012  477.309998  461.760010  463.140015  463.140015   \n",
       "4  2001-01-08  463.140015  463.140015  457.559998  461.640015  461.640015   \n",
       "\n",
       "       Volume  \n",
       "0  1129400000  \n",
       "1   188070000  \n",
       "2   216940000  \n",
       "3  1430800000  \n",
       "4  1115500000  "
      ]
     },
     "execution_count": 2,
     "metadata": {},
     "output_type": "execute_result"
    }
   ],
   "source": [
    "# Loading the SENSEX dataset\n",
    "df1 = pd.read_csv(\"https://raw.githubusercontent.com/Marisha18/GRIP-Tasks/main/SENSEX.csv\")\n",
    "df1.head()"
   ]
  },
  {
   "cell_type": "code",
   "execution_count": 3,
   "id": "22c99af7",
   "metadata": {},
   "outputs": [
    {
     "data": {
      "text/html": [
       "<div>\n",
       "<style scoped>\n",
       "    .dataframe tbody tr th:only-of-type {\n",
       "        vertical-align: middle;\n",
       "    }\n",
       "\n",
       "    .dataframe tbody tr th {\n",
       "        vertical-align: top;\n",
       "    }\n",
       "\n",
       "    .dataframe thead th {\n",
       "        text-align: right;\n",
       "    }\n",
       "</style>\n",
       "<table border=\"1\" class=\"dataframe\">\n",
       "  <thead>\n",
       "    <tr style=\"text-align: right;\">\n",
       "      <th></th>\n",
       "      <th>Date</th>\n",
       "      <th>Open</th>\n",
       "      <th>High</th>\n",
       "      <th>Low</th>\n",
       "      <th>Close</th>\n",
       "      <th>Adj Close</th>\n",
       "      <th>Volume</th>\n",
       "    </tr>\n",
       "  </thead>\n",
       "  <tbody>\n",
       "    <tr>\n",
       "      <th>2524</th>\n",
       "      <td>2011-01-14</td>\n",
       "      <td>800.650024</td>\n",
       "      <td>807.890015</td>\n",
       "      <td>799.049988</td>\n",
       "      <td>807.570007</td>\n",
       "      <td>807.570007</td>\n",
       "      <td>4661590000</td>\n",
       "    </tr>\n",
       "    <tr>\n",
       "      <th>2525</th>\n",
       "      <td>2011-01-18</td>\n",
       "      <td>807.570007</td>\n",
       "      <td>807.659973</td>\n",
       "      <td>801.039978</td>\n",
       "      <td>807.559998</td>\n",
       "      <td>807.559998</td>\n",
       "      <td>5284990000</td>\n",
       "    </tr>\n",
       "    <tr>\n",
       "      <th>2526</th>\n",
       "      <td>2011-01-19</td>\n",
       "      <td>806.679993</td>\n",
       "      <td>807.210022</td>\n",
       "      <td>785.849976</td>\n",
       "      <td>786.890015</td>\n",
       "      <td>786.890015</td>\n",
       "      <td>4743710000</td>\n",
       "    </tr>\n",
       "    <tr>\n",
       "      <th>2527</th>\n",
       "      <td>2011-01-20</td>\n",
       "      <td>781.960022</td>\n",
       "      <td>785.780029</td>\n",
       "      <td>775.580017</td>\n",
       "      <td>778.080017</td>\n",
       "      <td>778.080017</td>\n",
       "      <td>4935320000</td>\n",
       "    </tr>\n",
       "    <tr>\n",
       "      <th>2528</th>\n",
       "      <td>2011-01-21</td>\n",
       "      <td>781.960022</td>\n",
       "      <td>786.890015</td>\n",
       "      <td>773.119995</td>\n",
       "      <td>773.179993</td>\n",
       "      <td>773.179993</td>\n",
       "      <td>4935320000</td>\n",
       "    </tr>\n",
       "  </tbody>\n",
       "</table>\n",
       "</div>"
      ],
      "text/plain": [
       "            Date        Open        High         Low       Close   Adj Close  \\\n",
       "2524  2011-01-14  800.650024  807.890015  799.049988  807.570007  807.570007   \n",
       "2525  2011-01-18  807.570007  807.659973  801.039978  807.559998  807.559998   \n",
       "2526  2011-01-19  806.679993  807.210022  785.849976  786.890015  786.890015   \n",
       "2527  2011-01-20  781.960022  785.780029  775.580017  778.080017  778.080017   \n",
       "2528  2011-01-21  781.960022  786.890015  773.119995  773.179993  773.179993   \n",
       "\n",
       "          Volume  \n",
       "2524  4661590000  \n",
       "2525  5284990000  \n",
       "2526  4743710000  \n",
       "2527  4935320000  \n",
       "2528  4935320000  "
      ]
     },
     "execution_count": 3,
     "metadata": {},
     "output_type": "execute_result"
    }
   ],
   "source": [
    "df1.tail()"
   ]
  },
  {
   "cell_type": "markdown",
   "id": "e00dcd22",
   "metadata": {},
   "source": [
    "Length of dataset: 2529\n",
    "<br>Last date: 21/01/2011 (DD/MM/YYYY)"
   ]
  },
  {
   "cell_type": "code",
   "execution_count": 4,
   "id": "2b96d50c",
   "metadata": {
    "scrolled": false
   },
   "outputs": [
    {
     "data": {
      "text/plain": [
       "<AxesSubplot:>"
      ]
     },
     "execution_count": 4,
     "metadata": {},
     "output_type": "execute_result"
    },
    {
     "data": {
      "image/png": "[encoded data removed]",
      "text/plain": [
       "<Figure size 1440x576 with 1 Axes>"
      ]
     },
     "metadata": {
      "needs_background": "light"
     },
     "output_type": "display_data"
    }
   ],
   "source": [
    "# Visualise the SENSEX dataset\n",
    "df1[['High','Low','Open','Close']].plot(figsize=(20,8))"
   ]
  },
  {
   "cell_type": "code",
   "execution_count": 5,
   "id": "2956c2ef",
   "metadata": {
    "scrolled": false
   },
   "outputs": [
    {
     "data": {
      "text/plain": [
       "<AxesSubplot:>"
      ]
     },
     "execution_count": 5,
     "metadata": {},
     "output_type": "execute_result"
    },
    {
     "data": {
      "image/png": "[encoded data removed]",
      "text/plain": [
       "<Figure size 1440x576 with 1 Axes>"
      ]
     },
     "metadata": {
      "needs_background": "light"
     },
     "output_type": "display_data"
    }
   ],
   "source": [
    "df1['Volume'].plot(figsize=(20,8))"
   ]
  },
  {
   "cell_type": "markdown",
   "id": "f9e0191c",
   "metadata": {},
   "source": [
    "In stock trading, the high and low refer to the maximum and minimum prices in a given time period. Open and close are the prices at which a stock began and ended trading in the same period. Volume is the total amount of trading activity. Adjusted values factor in corporate actions such as dividends, stock splits, and new share issuance."
   ]
  },
  {
   "cell_type": "markdown",
   "id": "3459855b",
   "metadata": {},
   "source": [
    " "
   ]
  },
  {
   "cell_type": "markdown",
   "id": "ab40f519",
   "metadata": {},
   "source": [
    " - <b>Step 3:</b> Pre-Process the SENSEX dataset"
   ]
  },
  {
   "cell_type": "code",
   "execution_count": 6,
   "id": "da1232d6",
   "metadata": {},
   "outputs": [
    {
     "data": {
      "text/html": [
       "<div>\n",
       "<style scoped>\n",
       "    .dataframe tbody tr th:only-of-type {\n",
       "        vertical-align: middle;\n",
       "    }\n",
       "\n",
       "    .dataframe tbody tr th {\n",
       "        vertical-align: top;\n",
       "    }\n",
       "\n",
       "    .dataframe thead th {\n",
       "        text-align: right;\n",
       "    }\n",
       "</style>\n",
       "<table border=\"1\" class=\"dataframe\">\n",
       "  <thead>\n",
       "    <tr style=\"text-align: right;\">\n",
       "      <th></th>\n",
       "      <th>Date</th>\n",
       "      <th>Open</th>\n",
       "      <th>High</th>\n",
       "      <th>Low</th>\n",
       "      <th>Close</th>\n",
       "      <th>Adj Close</th>\n",
       "      <th>Volume</th>\n",
       "    </tr>\n",
       "  </thead>\n",
       "  <tbody>\n",
       "    <tr>\n",
       "      <th>0</th>\n",
       "      <td>2001-01-02</td>\n",
       "      <td>483.549988</td>\n",
       "      <td>483.549988</td>\n",
       "      <td>461.380005</td>\n",
       "      <td>462.489990</td>\n",
       "      <td>462.489990</td>\n",
       "      <td>1129400000</td>\n",
       "    </tr>\n",
       "    <tr>\n",
       "      <th>1</th>\n",
       "      <td>2001-01-03</td>\n",
       "      <td>462.489990</td>\n",
       "      <td>484.390015</td>\n",
       "      <td>459.279999</td>\n",
       "      <td>484.390015</td>\n",
       "      <td>484.390015</td>\n",
       "      <td>188070000</td>\n",
       "    </tr>\n",
       "    <tr>\n",
       "      <th>2</th>\n",
       "      <td>2001-01-04</td>\n",
       "      <td>484.390015</td>\n",
       "      <td>484.390015</td>\n",
       "      <td>475.899994</td>\n",
       "      <td>477.200012</td>\n",
       "      <td>477.200012</td>\n",
       "      <td>216940000</td>\n",
       "    </tr>\n",
       "    <tr>\n",
       "      <th>3</th>\n",
       "      <td>2001-01-05</td>\n",
       "      <td>477.200012</td>\n",
       "      <td>477.309998</td>\n",
       "      <td>461.760010</td>\n",
       "      <td>463.140015</td>\n",
       "      <td>463.140015</td>\n",
       "      <td>1430800000</td>\n",
       "    </tr>\n",
       "    <tr>\n",
       "      <th>4</th>\n",
       "      <td>2001-01-08</td>\n",
       "      <td>463.140015</td>\n",
       "      <td>463.140015</td>\n",
       "      <td>457.559998</td>\n",
       "      <td>461.640015</td>\n",
       "      <td>461.640015</td>\n",
       "      <td>1115500000</td>\n",
       "    </tr>\n",
       "  </tbody>\n",
       "</table>\n",
       "</div>"
      ],
      "text/plain": [
       "        Date        Open        High         Low       Close   Adj Close  \\\n",
       "0 2001-01-02  483.549988  483.549988  461.380005  462.489990  462.489990   \n",
       "1 2001-01-03  462.489990  484.390015  459.279999  484.390015  484.390015   \n",
       "2 2001-01-04  484.390015  484.390015  475.899994  477.200012  477.200012   \n",
       "3 2001-01-05  477.200012  477.309998  461.760010  463.140015  463.140015   \n",
       "4 2001-01-08  463.140015  463.140015  457.559998  461.640015  461.640015   \n",
       "\n",
       "       Volume  \n",
       "0  1129400000  \n",
       "1   188070000  \n",
       "2   216940000  \n",
       "3  1430800000  \n",
       "4  1115500000  "
      ]
     },
     "execution_count": 6,
     "metadata": {},
     "output_type": "execute_result"
    }
   ],
   "source": [
    "# Making sure df1 and df2 datasets match w.r.t Date \n",
    "df1=df1[df1['Date']<='2011-01-21']\n",
    "df1['Date']=pd.to_datetime(df1['Date']) \n",
    "df1.head()"
   ]
  },
  {
   "cell_type": "code",
   "execution_count": 7,
   "id": "e29eae80",
   "metadata": {},
   "outputs": [
    {
     "data": {
      "text/html": [
       "<div>\n",
       "<style scoped>\n",
       "    .dataframe tbody tr th:only-of-type {\n",
       "        vertical-align: middle;\n",
       "    }\n",
       "\n",
       "    .dataframe tbody tr th {\n",
       "        vertical-align: top;\n",
       "    }\n",
       "\n",
       "    .dataframe thead th {\n",
       "        text-align: right;\n",
       "    }\n",
       "</style>\n",
       "<table border=\"1\" class=\"dataframe\">\n",
       "  <thead>\n",
       "    <tr style=\"text-align: right;\">\n",
       "      <th></th>\n",
       "      <th>Date</th>\n",
       "      <th>Open</th>\n",
       "      <th>High</th>\n",
       "      <th>Low</th>\n",
       "      <th>Close</th>\n",
       "      <th>Adj Close</th>\n",
       "      <th>Volume</th>\n",
       "    </tr>\n",
       "  </thead>\n",
       "  <tbody>\n",
       "    <tr>\n",
       "      <th>2524</th>\n",
       "      <td>2011-01-14</td>\n",
       "      <td>800.650024</td>\n",
       "      <td>807.890015</td>\n",
       "      <td>799.049988</td>\n",
       "      <td>807.570007</td>\n",
       "      <td>807.570007</td>\n",
       "      <td>4661590000</td>\n",
       "    </tr>\n",
       "    <tr>\n",
       "      <th>2525</th>\n",
       "      <td>2011-01-18</td>\n",
       "      <td>807.570007</td>\n",
       "      <td>807.659973</td>\n",
       "      <td>801.039978</td>\n",
       "      <td>807.559998</td>\n",
       "      <td>807.559998</td>\n",
       "      <td>5284990000</td>\n",
       "    </tr>\n",
       "    <tr>\n",
       "      <th>2526</th>\n",
       "      <td>2011-01-19</td>\n",
       "      <td>806.679993</td>\n",
       "      <td>807.210022</td>\n",
       "      <td>785.849976</td>\n",
       "      <td>786.890015</td>\n",
       "      <td>786.890015</td>\n",
       "      <td>4743710000</td>\n",
       "    </tr>\n",
       "    <tr>\n",
       "      <th>2527</th>\n",
       "      <td>2011-01-20</td>\n",
       "      <td>781.960022</td>\n",
       "      <td>785.780029</td>\n",
       "      <td>775.580017</td>\n",
       "      <td>778.080017</td>\n",
       "      <td>778.080017</td>\n",
       "      <td>4935320000</td>\n",
       "    </tr>\n",
       "    <tr>\n",
       "      <th>2528</th>\n",
       "      <td>2011-01-21</td>\n",
       "      <td>781.960022</td>\n",
       "      <td>786.890015</td>\n",
       "      <td>773.119995</td>\n",
       "      <td>773.179993</td>\n",
       "      <td>773.179993</td>\n",
       "      <td>4935320000</td>\n",
       "    </tr>\n",
       "  </tbody>\n",
       "</table>\n",
       "</div>"
      ],
      "text/plain": [
       "           Date        Open        High         Low       Close   Adj Close  \\\n",
       "2524 2011-01-14  800.650024  807.890015  799.049988  807.570007  807.570007   \n",
       "2525 2011-01-18  807.570007  807.659973  801.039978  807.559998  807.559998   \n",
       "2526 2011-01-19  806.679993  807.210022  785.849976  786.890015  786.890015   \n",
       "2527 2011-01-20  781.960022  785.780029  775.580017  778.080017  778.080017   \n",
       "2528 2011-01-21  781.960022  786.890015  773.119995  773.179993  773.179993   \n",
       "\n",
       "          Volume  \n",
       "2524  4661590000  \n",
       "2525  5284990000  \n",
       "2526  4743710000  \n",
       "2527  4935320000  \n",
       "2528  4935320000  "
      ]
     },
     "execution_count": 7,
     "metadata": {},
     "output_type": "execute_result"
    }
   ],
   "source": [
    "df1.tail()"
   ]
  },
  {
   "cell_type": "markdown",
   "id": "ad04af82",
   "metadata": {},
   "source": [
    " "
   ]
  },
  {
   "cell_type": "markdown",
   "id": "3560f290",
   "metadata": {},
   "source": [
    " - <b>Step 4:</b> Import and visualise the News Headline dataset for textual analysis"
   ]
  },
  {
   "cell_type": "markdown",
   "id": "9af02298",
   "metadata": {},
   "source": [
    "Download textual (news) data from https://bit.ly/36fFPI6 or https://www.kaggle.com/therohk/india-headlines-news-dataset?select=india-news-headlines.csv"
   ]
  },
  {
   "cell_type": "code",
   "execution_count": 8,
   "id": "f8070d7d",
   "metadata": {},
   "outputs": [
    {
     "data": {
      "text/html": [
       "<div>\n",
       "<style scoped>\n",
       "    .dataframe tbody tr th:only-of-type {\n",
       "        vertical-align: middle;\n",
       "    }\n",
       "\n",
       "    .dataframe tbody tr th {\n",
       "        vertical-align: top;\n",
       "    }\n",
       "\n",
       "    .dataframe thead th {\n",
       "        text-align: right;\n",
       "    }\n",
       "</style>\n",
       "<table border=\"1\" class=\"dataframe\">\n",
       "  <thead>\n",
       "    <tr style=\"text-align: right;\">\n",
       "      <th></th>\n",
       "      <th>publish_date</th>\n",
       "      <th>headline_category</th>\n",
       "      <th>headline_text</th>\n",
       "    </tr>\n",
       "  </thead>\n",
       "  <tbody>\n",
       "    <tr>\n",
       "      <th>0</th>\n",
       "      <td>20010102</td>\n",
       "      <td>unknown</td>\n",
       "      <td>Status quo will not be disturbed at Ayodhya; s...</td>\n",
       "    </tr>\n",
       "    <tr>\n",
       "      <th>1</th>\n",
       "      <td>20010102</td>\n",
       "      <td>unknown</td>\n",
       "      <td>Fissures in Hurriyat over Pak visit</td>\n",
       "    </tr>\n",
       "    <tr>\n",
       "      <th>2</th>\n",
       "      <td>20010102</td>\n",
       "      <td>unknown</td>\n",
       "      <td>America's unwanted heading for India?</td>\n",
       "    </tr>\n",
       "    <tr>\n",
       "      <th>3</th>\n",
       "      <td>20010102</td>\n",
       "      <td>unknown</td>\n",
       "      <td>For bigwigs; it is destination Goa</td>\n",
       "    </tr>\n",
       "    <tr>\n",
       "      <th>4</th>\n",
       "      <td>20010102</td>\n",
       "      <td>unknown</td>\n",
       "      <td>Extra buses to clear tourist traffic</td>\n",
       "    </tr>\n",
       "  </tbody>\n",
       "</table>\n",
       "</div>"
      ],
      "text/plain": [
       "   publish_date headline_category  \\\n",
       "0      20010102           unknown   \n",
       "1      20010102           unknown   \n",
       "2      20010102           unknown   \n",
       "3      20010102           unknown   \n",
       "4      20010102           unknown   \n",
       "\n",
       "                                       headline_text  \n",
       "0  Status quo will not be disturbed at Ayodhya; s...  \n",
       "1                Fissures in Hurriyat over Pak visit  \n",
       "2              America's unwanted heading for India?  \n",
       "3                 For bigwigs; it is destination Goa  \n",
       "4               Extra buses to clear tourist traffic  "
      ]
     },
     "execution_count": 8,
     "metadata": {},
     "output_type": "execute_result"
    }
   ],
   "source": [
    "# Loading the News Headline dataset\n",
    "df2 = pd.read_csv(\"/home/marisha/Downloads/india-news-headlines.csv\")\n",
    "df2.head()"
   ]
  },
  {
   "cell_type": "code",
   "execution_count": 9,
   "id": "43bc6fe8",
   "metadata": {},
   "outputs": [
    {
     "data": {
      "text/html": [
       "<div>\n",
       "<style scoped>\n",
       "    .dataframe tbody tr th:only-of-type {\n",
       "        vertical-align: middle;\n",
       "    }\n",
       "\n",
       "    .dataframe tbody tr th {\n",
       "        vertical-align: top;\n",
       "    }\n",
       "\n",
       "    .dataframe thead th {\n",
       "        text-align: right;\n",
       "    }\n",
       "</style>\n",
       "<table border=\"1\" class=\"dataframe\">\n",
       "  <thead>\n",
       "    <tr style=\"text-align: right;\">\n",
       "      <th></th>\n",
       "      <th>publish_date</th>\n",
       "      <th>headline_category</th>\n",
       "      <th>headline_text</th>\n",
       "    </tr>\n",
       "  </thead>\n",
       "  <tbody>\n",
       "    <tr>\n",
       "      <th>3424062</th>\n",
       "      <td>20201231</td>\n",
       "      <td>city.jodhpur</td>\n",
       "      <td>Covid-19: Despite dip in cases; Rajasthan amon...</td>\n",
       "    </tr>\n",
       "    <tr>\n",
       "      <th>3424063</th>\n",
       "      <td>20201231</td>\n",
       "      <td>city.udaipur</td>\n",
       "      <td>Covid-19: Despite dip in cases; Rajasthan amon...</td>\n",
       "    </tr>\n",
       "    <tr>\n",
       "      <th>3424064</th>\n",
       "      <td>20201231</td>\n",
       "      <td>city.ajmer</td>\n",
       "      <td>Covid-19: Despite dip in cases; Rajasthan amon...</td>\n",
       "    </tr>\n",
       "    <tr>\n",
       "      <th>3424065</th>\n",
       "      <td>20201231</td>\n",
       "      <td>removed</td>\n",
       "      <td>Govt extends deadline for use of FASTag till F...</td>\n",
       "    </tr>\n",
       "    <tr>\n",
       "      <th>3424066</th>\n",
       "      <td>20201231</td>\n",
       "      <td>entertainment.bengali.movies.news</td>\n",
       "      <td>Celebs plan to party safely and responsibly on...</td>\n",
       "    </tr>\n",
       "  </tbody>\n",
       "</table>\n",
       "</div>"
      ],
      "text/plain": [
       "         publish_date                  headline_category  \\\n",
       "3424062      20201231                       city.jodhpur   \n",
       "3424063      20201231                       city.udaipur   \n",
       "3424064      20201231                         city.ajmer   \n",
       "3424065      20201231                            removed   \n",
       "3424066      20201231  entertainment.bengali.movies.news   \n",
       "\n",
       "                                             headline_text  \n",
       "3424062  Covid-19: Despite dip in cases; Rajasthan amon...  \n",
       "3424063  Covid-19: Despite dip in cases; Rajasthan amon...  \n",
       "3424064  Covid-19: Despite dip in cases; Rajasthan amon...  \n",
       "3424065  Govt extends deadline for use of FASTag till F...  \n",
       "3424066  Celebs plan to party safely and responsibly on...  "
      ]
     },
     "execution_count": 9,
     "metadata": {},
     "output_type": "execute_result"
    }
   ],
   "source": [
    "df2.tail()"
   ]
  },
  {
   "cell_type": "markdown",
   "id": "8f6bd1ed",
   "metadata": {},
   "source": [
    "Length of dataset: 3424067\n",
    "<br>Last date: 31/12/2020 (DD/MM/YYYY)\n",
    "<br>\n",
    "<br>df2 needs to be compressed to match df1 along with other preprocessing."
   ]
  },
  {
   "cell_type": "markdown",
   "id": "e29e53a9",
   "metadata": {},
   "source": [
    "  "
   ]
  },
  {
   "cell_type": "markdown",
   "id": "750bb5e1",
   "metadata": {},
   "source": [
    " - <b>Step 5:</b> Pre-Process the News Headline dataset"
   ]
  },
  {
   "cell_type": "code",
   "execution_count": 10,
   "id": "d5bf06c2",
   "metadata": {},
   "outputs": [
    {
     "data": {
      "text/html": [
       "<div>\n",
       "<style scoped>\n",
       "    .dataframe tbody tr th:only-of-type {\n",
       "        vertical-align: middle;\n",
       "    }\n",
       "\n",
       "    .dataframe tbody tr th {\n",
       "        vertical-align: top;\n",
       "    }\n",
       "\n",
       "    .dataframe thead th {\n",
       "        text-align: right;\n",
       "    }\n",
       "</style>\n",
       "<table border=\"1\" class=\"dataframe\">\n",
       "  <thead>\n",
       "    <tr style=\"text-align: right;\">\n",
       "      <th></th>\n",
       "      <th>publish_date</th>\n",
       "      <th>headline_text</th>\n",
       "    </tr>\n",
       "  </thead>\n",
       "  <tbody>\n",
       "    <tr>\n",
       "      <th>0</th>\n",
       "      <td>2001-01-02</td>\n",
       "      <td>Status quo will not be disturbed at Ayodhya; s...</td>\n",
       "    </tr>\n",
       "    <tr>\n",
       "      <th>1</th>\n",
       "      <td>2001-01-02</td>\n",
       "      <td>Fissures in Hurriyat over Pak visit</td>\n",
       "    </tr>\n",
       "    <tr>\n",
       "      <th>2</th>\n",
       "      <td>2001-01-02</td>\n",
       "      <td>America's unwanted heading for India?</td>\n",
       "    </tr>\n",
       "    <tr>\n",
       "      <th>3</th>\n",
       "      <td>2001-01-02</td>\n",
       "      <td>For bigwigs; it is destination Goa</td>\n",
       "    </tr>\n",
       "    <tr>\n",
       "      <th>4</th>\n",
       "      <td>2001-01-02</td>\n",
       "      <td>Extra buses to clear tourist traffic</td>\n",
       "    </tr>\n",
       "  </tbody>\n",
       "</table>\n",
       "</div>"
      ],
      "text/plain": [
       "  publish_date                                      headline_text\n",
       "0   2001-01-02  Status quo will not be disturbed at Ayodhya; s...\n",
       "1   2001-01-02                Fissures in Hurriyat over Pak visit\n",
       "2   2001-01-02              America's unwanted heading for India?\n",
       "3   2001-01-02                 For bigwigs; it is destination Goa\n",
       "4   2001-01-02               Extra buses to clear tourist traffic"
      ]
     },
     "execution_count": 10,
     "metadata": {},
     "output_type": "execute_result"
    }
   ],
   "source": [
    "df2['publish_date']=pd.to_datetime(df2['publish_date'],format='%Y%m%d') # Change data to the same format as df1\n",
    "df2=df2.drop('headline_category',axis=1) # Dropping feature 'headline_category' as it barely affects results\n",
    "df2.head()"
   ]
  },
  {
   "cell_type": "code",
   "execution_count": 11,
   "id": "5ba6fca0",
   "metadata": {},
   "outputs": [
    {
     "data": {
      "text/html": [
       "<div>\n",
       "<style scoped>\n",
       "    .dataframe tbody tr th:only-of-type {\n",
       "        vertical-align: middle;\n",
       "    }\n",
       "\n",
       "    .dataframe tbody tr th {\n",
       "        vertical-align: top;\n",
       "    }\n",
       "\n",
       "    .dataframe thead th {\n",
       "        text-align: right;\n",
       "    }\n",
       "</style>\n",
       "<table border=\"1\" class=\"dataframe\">\n",
       "  <thead>\n",
       "    <tr style=\"text-align: right;\">\n",
       "      <th></th>\n",
       "      <th>publish_date</th>\n",
       "      <th>headline_text</th>\n",
       "    </tr>\n",
       "  </thead>\n",
       "  <tbody>\n",
       "    <tr>\n",
       "      <th>0</th>\n",
       "      <td>2001-01-02</td>\n",
       "      <td>Status quo will not be disturbed at Ayodhya; s...</td>\n",
       "    </tr>\n",
       "    <tr>\n",
       "      <th>1</th>\n",
       "      <td>2001-01-02</td>\n",
       "      <td>Fissures in Hurriyat over Pak visit</td>\n",
       "    </tr>\n",
       "    <tr>\n",
       "      <th>2</th>\n",
       "      <td>2001-01-02</td>\n",
       "      <td>America's unwanted heading for India?</td>\n",
       "    </tr>\n",
       "    <tr>\n",
       "      <th>3</th>\n",
       "      <td>2001-01-02</td>\n",
       "      <td>For bigwigs; it is destination Goa</td>\n",
       "    </tr>\n",
       "    <tr>\n",
       "      <th>4</th>\n",
       "      <td>2001-01-02</td>\n",
       "      <td>Extra buses to clear tourist traffic</td>\n",
       "    </tr>\n",
       "  </tbody>\n",
       "</table>\n",
       "</div>"
      ],
      "text/plain": [
       "  publish_date                                      headline_text\n",
       "0   2001-01-02  Status quo will not be disturbed at Ayodhya; s...\n",
       "1   2001-01-02                Fissures in Hurriyat over Pak visit\n",
       "2   2001-01-02              America's unwanted heading for India?\n",
       "3   2001-01-02                 For bigwigs; it is destination Goa\n",
       "4   2001-01-02               Extra buses to clear tourist traffic"
      ]
     },
     "execution_count": 11,
     "metadata": {},
     "output_type": "execute_result"
    }
   ],
   "source": [
    "# Compressing df2 to match df1\n",
    "df2=df2[df2['publish_date']<='2011-01-21']\n",
    "df2['publish_date']=pd.to_datetime(df2['publish_date']) \n",
    "df2.head()"
   ]
  },
  {
   "cell_type": "code",
   "execution_count": 12,
   "id": "1e3b3caf",
   "metadata": {},
   "outputs": [
    {
     "data": {
      "text/html": [
       "<div>\n",
       "<style scoped>\n",
       "    .dataframe tbody tr th:only-of-type {\n",
       "        vertical-align: middle;\n",
       "    }\n",
       "\n",
       "    .dataframe tbody tr th {\n",
       "        vertical-align: top;\n",
       "    }\n",
       "\n",
       "    .dataframe thead th {\n",
       "        text-align: right;\n",
       "    }\n",
       "</style>\n",
       "<table border=\"1\" class=\"dataframe\">\n",
       "  <thead>\n",
       "    <tr style=\"text-align: right;\">\n",
       "      <th></th>\n",
       "      <th>publish_date</th>\n",
       "      <th>headline_text</th>\n",
       "    </tr>\n",
       "  </thead>\n",
       "  <tbody>\n",
       "    <tr>\n",
       "      <th>1047556</th>\n",
       "      <td>2011-01-21</td>\n",
       "      <td>Protest against Omar's remarks</td>\n",
       "    </tr>\n",
       "    <tr>\n",
       "      <th>1047557</th>\n",
       "      <td>2011-01-21</td>\n",
       "      <td>PAU students continue agitation</td>\n",
       "    </tr>\n",
       "    <tr>\n",
       "      <th>1047558</th>\n",
       "      <td>2011-01-21</td>\n",
       "      <td>Self-employment Day marked</td>\n",
       "    </tr>\n",
       "    <tr>\n",
       "      <th>1047559</th>\n",
       "      <td>2011-01-21</td>\n",
       "      <td>Govt school lecturers negligent: monitoring te...</td>\n",
       "    </tr>\n",
       "    <tr>\n",
       "      <th>1047560</th>\n",
       "      <td>2011-01-21</td>\n",
       "      <td>1;303 nominations received for Padma Awards 2011</td>\n",
       "    </tr>\n",
       "  </tbody>\n",
       "</table>\n",
       "</div>"
      ],
      "text/plain": [
       "        publish_date                                      headline_text\n",
       "1047556   2011-01-21                     Protest against Omar's remarks\n",
       "1047557   2011-01-21                    PAU students continue agitation\n",
       "1047558   2011-01-21                         Self-employment Day marked\n",
       "1047559   2011-01-21  Govt school lecturers negligent: monitoring te...\n",
       "1047560   2011-01-21   1;303 nominations received for Padma Awards 2011"
      ]
     },
     "execution_count": 12,
     "metadata": {},
     "output_type": "execute_result"
    }
   ],
   "source": [
    "df2.tail() # Checking the dates"
   ]
  },
  {
   "cell_type": "code",
   "execution_count": 13,
   "id": "21865814",
   "metadata": {
    "scrolled": false
   },
   "outputs": [
    {
     "data": {
      "text/html": [
       "<div>\n",
       "<style scoped>\n",
       "    .dataframe tbody tr th:only-of-type {\n",
       "        vertical-align: middle;\n",
       "    }\n",
       "\n",
       "    .dataframe tbody tr th {\n",
       "        vertical-align: top;\n",
       "    }\n",
       "\n",
       "    .dataframe thead th {\n",
       "        text-align: right;\n",
       "    }\n",
       "</style>\n",
       "<table border=\"1\" class=\"dataframe\">\n",
       "  <thead>\n",
       "    <tr style=\"text-align: right;\">\n",
       "      <th></th>\n",
       "      <th>index</th>\n",
       "      <th>Date</th>\n",
       "      <th>headline_text</th>\n",
       "    </tr>\n",
       "  </thead>\n",
       "  <tbody>\n",
       "    <tr>\n",
       "      <th>0</th>\n",
       "      <td>0</td>\n",
       "      <td>2001-01-02</td>\n",
       "      <td>Status quo will not be disturbed at Ayodhya; s...</td>\n",
       "    </tr>\n",
       "    <tr>\n",
       "      <th>1</th>\n",
       "      <td>86</td>\n",
       "      <td>2001-01-03</td>\n",
       "      <td>Powerless north India gropes in the dark Think...</td>\n",
       "    </tr>\n",
       "    <tr>\n",
       "      <th>2</th>\n",
       "      <td>127</td>\n",
       "      <td>2001-01-04</td>\n",
       "      <td>The string that pulled Stephen Hawking to Indi...</td>\n",
       "    </tr>\n",
       "    <tr>\n",
       "      <th>3</th>\n",
       "      <td>280</td>\n",
       "      <td>2001-01-05</td>\n",
       "      <td>Light combat craft takes India into club class...</td>\n",
       "    </tr>\n",
       "    <tr>\n",
       "      <th>4</th>\n",
       "      <td>406</td>\n",
       "      <td>2001-01-06</td>\n",
       "      <td>Light combat craft takes India into club class...</td>\n",
       "    </tr>\n",
       "    <tr>\n",
       "      <th>...</th>\n",
       "      <td>...</td>\n",
       "      <td>...</td>\n",
       "      <td>...</td>\n",
       "    </tr>\n",
       "    <tr>\n",
       "      <th>3625</th>\n",
       "      <td>1044084</td>\n",
       "      <td>2011-01-17</td>\n",
       "      <td>Older brother in the dark about sibling's deat...</td>\n",
       "    </tr>\n",
       "    <tr>\n",
       "      <th>3626</th>\n",
       "      <td>1044772</td>\n",
       "      <td>2011-01-18</td>\n",
       "      <td>Top sex mistakes men make No alcohol for 6-pac...</td>\n",
       "    </tr>\n",
       "    <tr>\n",
       "      <th>3627</th>\n",
       "      <td>1045470</td>\n",
       "      <td>2011-01-19</td>\n",
       "      <td>My ex doesn't want me: Pratik Saali is not a g...</td>\n",
       "    </tr>\n",
       "    <tr>\n",
       "      <th>3628</th>\n",
       "      <td>1046166</td>\n",
       "      <td>2011-01-20</td>\n",
       "      <td>Neetu Chandra denies going panty-less! Aishwar...</td>\n",
       "    </tr>\n",
       "    <tr>\n",
       "      <th>3629</th>\n",
       "      <td>1046864</td>\n",
       "      <td>2011-01-21</td>\n",
       "      <td>Giving the kids a dressing up AK Hangal's ill ...</td>\n",
       "    </tr>\n",
       "  </tbody>\n",
       "</table>\n",
       "<p>3630 rows × 3 columns</p>\n",
       "</div>"
      ],
      "text/plain": [
       "        index       Date                                      headline_text\n",
       "0           0 2001-01-02  Status quo will not be disturbed at Ayodhya; s...\n",
       "1          86 2001-01-03  Powerless north India gropes in the dark Think...\n",
       "2         127 2001-01-04  The string that pulled Stephen Hawking to Indi...\n",
       "3         280 2001-01-05  Light combat craft takes India into club class...\n",
       "4         406 2001-01-06  Light combat craft takes India into club class...\n",
       "...       ...        ...                                                ...\n",
       "3625  1044084 2011-01-17  Older brother in the dark about sibling's deat...\n",
       "3626  1044772 2011-01-18  Top sex mistakes men make No alcohol for 6-pac...\n",
       "3627  1045470 2011-01-19  My ex doesn't want me: Pratik Saali is not a g...\n",
       "3628  1046166 2011-01-20  Neetu Chandra denies going panty-less! Aishwar...\n",
       "3629  1046864 2011-01-21  Giving the kids a dressing up AK Hangal's ill ...\n",
       "\n",
       "[3630 rows x 3 columns]"
      ]
     },
     "execution_count": 13,
     "metadata": {},
     "output_type": "execute_result"
    }
   ],
   "source": [
    "df2=df2.rename(columns={'publish_date':'Date'}) # Matching the heading for date column in df1 and df2\n",
    "\n",
    "# Cleaning the data\n",
    "df2['headline_text']=df2.groupby(['Date']).transform(lambda x: ' '.join(x))\n",
    "df2=df2.drop_duplicates()\n",
    "df2.duplicated().sum()\n",
    "df2.reset_index()"
   ]
  },
  {
   "cell_type": "markdown",
   "id": "a5671122",
   "metadata": {},
   "source": [
    "    "
   ]
  },
  {
   "cell_type": "markdown",
   "id": "0b34f52e",
   "metadata": {},
   "source": [
    " - <b>Step 6:</b> Basic Text Analysis On News Headlines"
   ]
  },
  {
   "cell_type": "markdown",
   "id": "7104321f",
   "metadata": {},
   "source": [
    "1. Number of words in each row"
   ]
  },
  {
   "cell_type": "code",
   "execution_count": 14,
   "id": "d3202491",
   "metadata": {},
   "outputs": [
    {
     "data": {
      "text/html": [
       "<div>\n",
       "<style scoped>\n",
       "    .dataframe tbody tr th:only-of-type {\n",
       "        vertical-align: middle;\n",
       "    }\n",
       "\n",
       "    .dataframe tbody tr th {\n",
       "        vertical-align: top;\n",
       "    }\n",
       "\n",
       "    .dataframe thead th {\n",
       "        text-align: right;\n",
       "    }\n",
       "</style>\n",
       "<table border=\"1\" class=\"dataframe\">\n",
       "  <thead>\n",
       "    <tr style=\"text-align: right;\">\n",
       "      <th></th>\n",
       "      <th>headline_text</th>\n",
       "      <th>word_count</th>\n",
       "    </tr>\n",
       "  </thead>\n",
       "  <tbody>\n",
       "    <tr>\n",
       "      <th>0</th>\n",
       "      <td>Status quo will not be disturbed at Ayodhya; s...</td>\n",
       "      <td>550</td>\n",
       "    </tr>\n",
       "    <tr>\n",
       "      <th>86</th>\n",
       "      <td>Powerless north India gropes in the dark Think...</td>\n",
       "      <td>245</td>\n",
       "    </tr>\n",
       "    <tr>\n",
       "      <th>127</th>\n",
       "      <td>The string that pulled Stephen Hawking to Indi...</td>\n",
       "      <td>937</td>\n",
       "    </tr>\n",
       "    <tr>\n",
       "      <th>280</th>\n",
       "      <td>Light combat craft takes India into club class...</td>\n",
       "      <td>823</td>\n",
       "    </tr>\n",
       "    <tr>\n",
       "      <th>406</th>\n",
       "      <td>Light combat craft takes India into club class...</td>\n",
       "      <td>70</td>\n",
       "    </tr>\n",
       "  </tbody>\n",
       "</table>\n",
       "</div>"
      ],
      "text/plain": [
       "                                         headline_text  word_count\n",
       "0    Status quo will not be disturbed at Ayodhya; s...         550\n",
       "86   Powerless north India gropes in the dark Think...         245\n",
       "127  The string that pulled Stephen Hawking to Indi...         937\n",
       "280  Light combat craft takes India into club class...         823\n",
       "406  Light combat craft takes India into club class...          70"
      ]
     },
     "execution_count": 14,
     "metadata": {},
     "output_type": "execute_result"
    }
   ],
   "source": [
    "df2['word_count'] = df2['headline_text'].apply(lambda x: len(str(x).split(\" \")))\n",
    "df2[['headline_text','word_count']].head()"
   ]
  },
  {
   "cell_type": "markdown",
   "id": "67b959e5",
   "metadata": {},
   "source": [
    "2. Number of Characters in every Statement from each row"
   ]
  },
  {
   "cell_type": "code",
   "execution_count": 15,
   "id": "c94e3a58",
   "metadata": {},
   "outputs": [
    {
     "data": {
      "text/html": [
       "<div>\n",
       "<style scoped>\n",
       "    .dataframe tbody tr th:only-of-type {\n",
       "        vertical-align: middle;\n",
       "    }\n",
       "\n",
       "    .dataframe tbody tr th {\n",
       "        vertical-align: top;\n",
       "    }\n",
       "\n",
       "    .dataframe thead th {\n",
       "        text-align: right;\n",
       "    }\n",
       "</style>\n",
       "<table border=\"1\" class=\"dataframe\">\n",
       "  <thead>\n",
       "    <tr style=\"text-align: right;\">\n",
       "      <th></th>\n",
       "      <th>headline_text</th>\n",
       "      <th>char_count</th>\n",
       "    </tr>\n",
       "  </thead>\n",
       "  <tbody>\n",
       "    <tr>\n",
       "      <th>0</th>\n",
       "      <td>Status quo will not be disturbed at Ayodhya; s...</td>\n",
       "      <td>3323</td>\n",
       "    </tr>\n",
       "    <tr>\n",
       "      <th>86</th>\n",
       "      <td>Powerless north India gropes in the dark Think...</td>\n",
       "      <td>1441</td>\n",
       "    </tr>\n",
       "    <tr>\n",
       "      <th>127</th>\n",
       "      <td>The string that pulled Stephen Hawking to Indi...</td>\n",
       "      <td>5855</td>\n",
       "    </tr>\n",
       "    <tr>\n",
       "      <th>280</th>\n",
       "      <td>Light combat craft takes India into club class...</td>\n",
       "      <td>5011</td>\n",
       "    </tr>\n",
       "    <tr>\n",
       "      <th>406</th>\n",
       "      <td>Light combat craft takes India into club class...</td>\n",
       "      <td>485</td>\n",
       "    </tr>\n",
       "  </tbody>\n",
       "</table>\n",
       "</div>"
      ],
      "text/plain": [
       "                                         headline_text  char_count\n",
       "0    Status quo will not be disturbed at Ayodhya; s...        3323\n",
       "86   Powerless north India gropes in the dark Think...        1441\n",
       "127  The string that pulled Stephen Hawking to Indi...        5855\n",
       "280  Light combat craft takes India into club class...        5011\n",
       "406  Light combat craft takes India into club class...         485"
      ]
     },
     "execution_count": 15,
     "metadata": {},
     "output_type": "execute_result"
    }
   ],
   "source": [
    "df2['char_count'] = df2['headline_text'].str.len()\n",
    "df2[['headline_text','char_count']].head()"
   ]
  },
  {
   "cell_type": "markdown",
   "id": "e95fc96e",
   "metadata": {},
   "source": [
    "3. Calculate average word length"
   ]
  },
  {
   "cell_type": "code",
   "execution_count": 16,
   "id": "2642bad6",
   "metadata": {},
   "outputs": [
    {
     "data": {
      "text/html": [
       "<div>\n",
       "<style scoped>\n",
       "    .dataframe tbody tr th:only-of-type {\n",
       "        vertical-align: middle;\n",
       "    }\n",
       "\n",
       "    .dataframe tbody tr th {\n",
       "        vertical-align: top;\n",
       "    }\n",
       "\n",
       "    .dataframe thead th {\n",
       "        text-align: right;\n",
       "    }\n",
       "</style>\n",
       "<table border=\"1\" class=\"dataframe\">\n",
       "  <thead>\n",
       "    <tr style=\"text-align: right;\">\n",
       "      <th></th>\n",
       "      <th>headline_text</th>\n",
       "      <th>avg_word</th>\n",
       "    </tr>\n",
       "  </thead>\n",
       "  <tbody>\n",
       "    <tr>\n",
       "      <th>0</th>\n",
       "      <td>Status quo will not be disturbed at Ayodhya; s...</td>\n",
       "      <td>5.043636</td>\n",
       "    </tr>\n",
       "    <tr>\n",
       "      <th>86</th>\n",
       "      <td>Powerless north India gropes in the dark Think...</td>\n",
       "      <td>4.885714</td>\n",
       "    </tr>\n",
       "    <tr>\n",
       "      <th>127</th>\n",
       "      <td>The string that pulled Stephen Hawking to Indi...</td>\n",
       "      <td>5.249733</td>\n",
       "    </tr>\n",
       "    <tr>\n",
       "      <th>280</th>\n",
       "      <td>Light combat craft takes India into club class...</td>\n",
       "      <td>5.089915</td>\n",
       "    </tr>\n",
       "    <tr>\n",
       "      <th>406</th>\n",
       "      <td>Light combat craft takes India into club class...</td>\n",
       "      <td>5.942857</td>\n",
       "    </tr>\n",
       "  </tbody>\n",
       "</table>\n",
       "</div>"
      ],
      "text/plain": [
       "                                         headline_text  avg_word\n",
       "0    Status quo will not be disturbed at Ayodhya; s...  5.043636\n",
       "86   Powerless north India gropes in the dark Think...  4.885714\n",
       "127  The string that pulled Stephen Hawking to Indi...  5.249733\n",
       "280  Light combat craft takes India into club class...  5.089915\n",
       "406  Light combat craft takes India into club class...  5.942857"
      ]
     },
     "execution_count": 16,
     "metadata": {},
     "output_type": "execute_result"
    }
   ],
   "source": [
    "def avg_word(sentence):\n",
    "  words = sentence.split()\n",
    "  return (sum(len(word) for word in words)/len(words))\n",
    "\n",
    "df2['avg_word'] = df2['headline_text'].apply(lambda x: avg_word(x))\n",
    "df2[['headline_text','avg_word']].head()"
   ]
  },
  {
   "cell_type": "markdown",
   "id": "4bc9f2e2",
   "metadata": {},
   "source": [
    "4. Calculate the number of Stopwords"
   ]
  },
  {
   "cell_type": "code",
   "execution_count": 17,
   "id": "222247ba",
   "metadata": {},
   "outputs": [
    {
     "data": {
      "text/html": [
       "<div>\n",
       "<style scoped>\n",
       "    .dataframe tbody tr th:only-of-type {\n",
       "        vertical-align: middle;\n",
       "    }\n",
       "\n",
       "    .dataframe tbody tr th {\n",
       "        vertical-align: top;\n",
       "    }\n",
       "\n",
       "    .dataframe thead th {\n",
       "        text-align: right;\n",
       "    }\n",
       "</style>\n",
       "<table border=\"1\" class=\"dataframe\">\n",
       "  <thead>\n",
       "    <tr style=\"text-align: right;\">\n",
       "      <th></th>\n",
       "      <th>headline_text</th>\n",
       "      <th>stopwords</th>\n",
       "    </tr>\n",
       "  </thead>\n",
       "  <tbody>\n",
       "    <tr>\n",
       "      <th>0</th>\n",
       "      <td>Status quo will not be disturbed at Ayodhya; s...</td>\n",
       "      <td>142</td>\n",
       "    </tr>\n",
       "    <tr>\n",
       "      <th>86</th>\n",
       "      <td>Powerless north India gropes in the dark Think...</td>\n",
       "      <td>56</td>\n",
       "    </tr>\n",
       "    <tr>\n",
       "      <th>127</th>\n",
       "      <td>The string that pulled Stephen Hawking to Indi...</td>\n",
       "      <td>191</td>\n",
       "    </tr>\n",
       "    <tr>\n",
       "      <th>280</th>\n",
       "      <td>Light combat craft takes India into club class...</td>\n",
       "      <td>164</td>\n",
       "    </tr>\n",
       "    <tr>\n",
       "      <th>406</th>\n",
       "      <td>Light combat craft takes India into club class...</td>\n",
       "      <td>7</td>\n",
       "    </tr>\n",
       "  </tbody>\n",
       "</table>\n",
       "</div>"
      ],
      "text/plain": [
       "                                         headline_text  stopwords\n",
       "0    Status quo will not be disturbed at Ayodhya; s...        142\n",
       "86   Powerless north India gropes in the dark Think...         56\n",
       "127  The string that pulled Stephen Hawking to Indi...        191\n",
       "280  Light combat craft takes India into club class...        164\n",
       "406  Light combat craft takes India into club class...          7"
      ]
     },
     "execution_count": 17,
     "metadata": {},
     "output_type": "execute_result"
    }
   ],
   "source": [
    "stop = stopwords.words('english')\n",
    "\n",
    "df2['stopwords'] = df2['headline_text'].apply(lambda x: len([x for x in x.split() if x in stop]))\n",
    "df2[['headline_text','stopwords']].head()"
   ]
  },
  {
   "cell_type": "markdown",
   "id": "4faf18d3",
   "metadata": {},
   "source": [
    "5. Number of Special Characters in each Statement"
   ]
  },
  {
   "cell_type": "code",
   "execution_count": 18,
   "id": "7c42ae23",
   "metadata": {},
   "outputs": [
    {
     "data": {
      "text/html": [
       "<div>\n",
       "<style scoped>\n",
       "    .dataframe tbody tr th:only-of-type {\n",
       "        vertical-align: middle;\n",
       "    }\n",
       "\n",
       "    .dataframe tbody tr th {\n",
       "        vertical-align: top;\n",
       "    }\n",
       "\n",
       "    .dataframe thead th {\n",
       "        text-align: right;\n",
       "    }\n",
       "</style>\n",
       "<table border=\"1\" class=\"dataframe\">\n",
       "  <thead>\n",
       "    <tr style=\"text-align: right;\">\n",
       "      <th></th>\n",
       "      <th>headline_text</th>\n",
       "      <th>hashtags</th>\n",
       "    </tr>\n",
       "  </thead>\n",
       "  <tbody>\n",
       "    <tr>\n",
       "      <th>0</th>\n",
       "      <td>Status quo will not be disturbed at Ayodhya; s...</td>\n",
       "      <td>0</td>\n",
       "    </tr>\n",
       "    <tr>\n",
       "      <th>86</th>\n",
       "      <td>Powerless north India gropes in the dark Think...</td>\n",
       "      <td>0</td>\n",
       "    </tr>\n",
       "    <tr>\n",
       "      <th>127</th>\n",
       "      <td>The string that pulled Stephen Hawking to Indi...</td>\n",
       "      <td>0</td>\n",
       "    </tr>\n",
       "    <tr>\n",
       "      <th>280</th>\n",
       "      <td>Light combat craft takes India into club class...</td>\n",
       "      <td>0</td>\n",
       "    </tr>\n",
       "    <tr>\n",
       "      <th>406</th>\n",
       "      <td>Light combat craft takes India into club class...</td>\n",
       "      <td>0</td>\n",
       "    </tr>\n",
       "  </tbody>\n",
       "</table>\n",
       "</div>"
      ],
      "text/plain": [
       "                                         headline_text  hashtags\n",
       "0    Status quo will not be disturbed at Ayodhya; s...         0\n",
       "86   Powerless north India gropes in the dark Think...         0\n",
       "127  The string that pulled Stephen Hawking to Indi...         0\n",
       "280  Light combat craft takes India into club class...         0\n",
       "406  Light combat craft takes India into club class...         0"
      ]
     },
     "execution_count": 18,
     "metadata": {},
     "output_type": "execute_result"
    }
   ],
   "source": [
    "df2['hashtags'] = df2['headline_text'].apply(lambda x: len([x for x in x.split() if x.startswith('#')]))\n",
    "df2[['headline_text','hashtags']].head()"
   ]
  },
  {
   "cell_type": "markdown",
   "id": "6d58a440",
   "metadata": {},
   "source": [
    "6. Number of Numerics in each Statement"
   ]
  },
  {
   "cell_type": "code",
   "execution_count": 19,
   "id": "30817bcd",
   "metadata": {},
   "outputs": [
    {
     "data": {
      "text/html": [
       "<div>\n",
       "<style scoped>\n",
       "    .dataframe tbody tr th:only-of-type {\n",
       "        vertical-align: middle;\n",
       "    }\n",
       "\n",
       "    .dataframe tbody tr th {\n",
       "        vertical-align: top;\n",
       "    }\n",
       "\n",
       "    .dataframe thead th {\n",
       "        text-align: right;\n",
       "    }\n",
       "</style>\n",
       "<table border=\"1\" class=\"dataframe\">\n",
       "  <thead>\n",
       "    <tr style=\"text-align: right;\">\n",
       "      <th></th>\n",
       "      <th>headline_text</th>\n",
       "      <th>numerics</th>\n",
       "    </tr>\n",
       "  </thead>\n",
       "  <tbody>\n",
       "    <tr>\n",
       "      <th>0</th>\n",
       "      <td>Status quo will not be disturbed at Ayodhya; s...</td>\n",
       "      <td>6</td>\n",
       "    </tr>\n",
       "    <tr>\n",
       "      <th>86</th>\n",
       "      <td>Powerless north India gropes in the dark Think...</td>\n",
       "      <td>6</td>\n",
       "    </tr>\n",
       "    <tr>\n",
       "      <th>127</th>\n",
       "      <td>The string that pulled Stephen Hawking to Indi...</td>\n",
       "      <td>4</td>\n",
       "    </tr>\n",
       "    <tr>\n",
       "      <th>280</th>\n",
       "      <td>Light combat craft takes India into club class...</td>\n",
       "      <td>13</td>\n",
       "    </tr>\n",
       "    <tr>\n",
       "      <th>406</th>\n",
       "      <td>Light combat craft takes India into club class...</td>\n",
       "      <td>1</td>\n",
       "    </tr>\n",
       "  </tbody>\n",
       "</table>\n",
       "</div>"
      ],
      "text/plain": [
       "                                         headline_text  numerics\n",
       "0    Status quo will not be disturbed at Ayodhya; s...         6\n",
       "86   Powerless north India gropes in the dark Think...         6\n",
       "127  The string that pulled Stephen Hawking to Indi...         4\n",
       "280  Light combat craft takes India into club class...        13\n",
       "406  Light combat craft takes India into club class...         1"
      ]
     },
     "execution_count": 19,
     "metadata": {},
     "output_type": "execute_result"
    }
   ],
   "source": [
    "df2['numerics'] = df2['headline_text'].apply(lambda x: len([x for x in x.split() if x.isdigit()]))\n",
    "df2[['headline_text','numerics']].head()"
   ]
  },
  {
   "cell_type": "markdown",
   "id": "984badf1",
   "metadata": {},
   "source": [
    "7. Number of Uppercase Words in each Headline from each row"
   ]
  },
  {
   "cell_type": "code",
   "execution_count": 20,
   "id": "b39d5916",
   "metadata": {},
   "outputs": [
    {
     "data": {
      "text/html": [
       "<div>\n",
       "<style scoped>\n",
       "    .dataframe tbody tr th:only-of-type {\n",
       "        vertical-align: middle;\n",
       "    }\n",
       "\n",
       "    .dataframe tbody tr th {\n",
       "        vertical-align: top;\n",
       "    }\n",
       "\n",
       "    .dataframe thead th {\n",
       "        text-align: right;\n",
       "    }\n",
       "</style>\n",
       "<table border=\"1\" class=\"dataframe\">\n",
       "  <thead>\n",
       "    <tr style=\"text-align: right;\">\n",
       "      <th></th>\n",
       "      <th>headline_text</th>\n",
       "      <th>upper</th>\n",
       "    </tr>\n",
       "  </thead>\n",
       "  <tbody>\n",
       "    <tr>\n",
       "      <th>0</th>\n",
       "      <td>Status quo will not be disturbed at Ayodhya; s...</td>\n",
       "      <td>17</td>\n",
       "    </tr>\n",
       "    <tr>\n",
       "      <th>86</th>\n",
       "      <td>Powerless north India gropes in the dark Think...</td>\n",
       "      <td>6</td>\n",
       "    </tr>\n",
       "    <tr>\n",
       "      <th>127</th>\n",
       "      <td>The string that pulled Stephen Hawking to Indi...</td>\n",
       "      <td>34</td>\n",
       "    </tr>\n",
       "    <tr>\n",
       "      <th>280</th>\n",
       "      <td>Light combat craft takes India into club class...</td>\n",
       "      <td>40</td>\n",
       "    </tr>\n",
       "    <tr>\n",
       "      <th>406</th>\n",
       "      <td>Light combat craft takes India into club class...</td>\n",
       "      <td>1</td>\n",
       "    </tr>\n",
       "  </tbody>\n",
       "</table>\n",
       "</div>"
      ],
      "text/plain": [
       "                                         headline_text  upper\n",
       "0    Status quo will not be disturbed at Ayodhya; s...     17\n",
       "86   Powerless north India gropes in the dark Think...      6\n",
       "127  The string that pulled Stephen Hawking to Indi...     34\n",
       "280  Light combat craft takes India into club class...     40\n",
       "406  Light combat craft takes India into club class...      1"
      ]
     },
     "execution_count": 20,
     "metadata": {},
     "output_type": "execute_result"
    }
   ],
   "source": [
    "df2['upper'] = df2['headline_text'].apply(lambda x: len([x for x in x.split() if x.isupper()]))\n",
    "df2[['headline_text','upper']].head()"
   ]
  },
  {
   "cell_type": "markdown",
   "id": "241cceea",
   "metadata": {},
   "source": [
    " "
   ]
  },
  {
   "cell_type": "markdown",
   "id": "81dd3731",
   "metadata": {},
   "source": [
    " - <b>Step 7:</b> Pre-Process the Data"
   ]
  },
  {
   "cell_type": "markdown",
   "id": "62be777b",
   "metadata": {},
   "source": [
    "1. Convert every word in the column to Lower Case"
   ]
  },
  {
   "cell_type": "code",
   "execution_count": 21,
   "id": "006afb3b",
   "metadata": {},
   "outputs": [
    {
     "data": {
      "text/plain": [
       "0      status quo will not be disturbed at ayodhya; s...\n",
       "86     powerless north india gropes in the dark think...\n",
       "127    the string that pulled stephen hawking to indi...\n",
       "280    light combat craft takes india into club class...\n",
       "406    light combat craft takes india into club class...\n",
       "Name: headline_text, dtype: object"
      ]
     },
     "execution_count": 21,
     "metadata": {},
     "output_type": "execute_result"
    }
   ],
   "source": [
    "df2['headline_text'] = df2['headline_text'].apply(lambda x: \" \".join(x.lower() for x in x.split()))\n",
    "df2['headline_text'].head()"
   ]
  },
  {
   "cell_type": "markdown",
   "id": "d3ac3334",
   "metadata": {},
   "source": [
    "2. Remove Punctuations"
   ]
  },
  {
   "cell_type": "code",
   "execution_count": 22,
   "id": "ef458c30",
   "metadata": {},
   "outputs": [
    {
     "data": {
      "text/plain": [
       "0      status quo will not be disturbed at ayodhya sa...\n",
       "86     powerless north india gropes in the dark think...\n",
       "127    the string that pulled stephen hawking to indi...\n",
       "280    light combat craft takes india into club class...\n",
       "406    light combat craft takes india into club class...\n",
       "Name: headline_text, dtype: object"
      ]
     },
     "execution_count": 22,
     "metadata": {},
     "output_type": "execute_result"
    }
   ],
   "source": [
    "df2['headline_text'] = df2['headline_text'].str.replace('[^\\w\\s]','')\n",
    "df2['headline_text'].head()"
   ]
  },
  {
   "cell_type": "markdown",
   "id": "a0041199",
   "metadata": {},
   "source": [
    "3. Remove the Stopwords"
   ]
  },
  {
   "cell_type": "code",
   "execution_count": 23,
   "id": "0f7af724",
   "metadata": {},
   "outputs": [
    {
     "data": {
      "text/plain": [
       "0      status quo disturbed ayodhya says vajpayee fis...\n",
       "86     powerless north india gropes dark think laxman...\n",
       "127    string pulled stephen hawking india vajpayee g...\n",
       "280    light combat craft takes india club class hawk...\n",
       "406    light combat craft takes india club class hawk...\n",
       "Name: headline_text, dtype: object"
      ]
     },
     "execution_count": 23,
     "metadata": {},
     "output_type": "execute_result"
    }
   ],
   "source": [
    "stop = stopwords.words('english')\n",
    "df2['headline_text'] = df2['headline_text'].apply(\n",
    "    lambda x: \" \".join(x for x in x.split() if x not in stop))\n",
    "df2['headline_text'].head()"
   ]
  },
  {
   "cell_type": "markdown",
   "id": "a82ac455",
   "metadata": {},
   "source": [
    "4. Remove Common Words"
   ]
  },
  {
   "cell_type": "code",
   "execution_count": 24,
   "id": "402ec4fb",
   "metadata": {},
   "outputs": [
    {
     "data": {
      "text/plain": [
       "india     28439\n",
       "govt      23715\n",
       "new       20015\n",
       "rs        16061\n",
       "city      15464\n",
       "may       14980\n",
       "case      14674\n",
       "police    14149\n",
       "us        13564\n",
       "held      13463\n",
       "dtype: int64"
      ]
     },
     "execution_count": 24,
     "metadata": {},
     "output_type": "execute_result"
    }
   ],
   "source": [
    "freq = pd.Series(' '.join(df2['headline_text']).split()).value_counts()[:10]\n",
    "freq"
   ]
  },
  {
   "cell_type": "code",
   "execution_count": 25,
   "id": "4431828b",
   "metadata": {},
   "outputs": [
    {
     "data": {
      "text/plain": [
       "0      status quo disturbed ayodhya says vajpayee fis...\n",
       "86     powerless north gropes dark think laxman tells...\n",
       "127    string pulled stephen hawking vajpayee gives b...\n",
       "280    light combat craft takes club class hawkings d...\n",
       "406    light combat craft takes club class hawkings d...\n",
       "Name: headline_text, dtype: object"
      ]
     },
     "execution_count": 25,
     "metadata": {},
     "output_type": "execute_result"
    }
   ],
   "source": [
    "freq = list(freq.index)\n",
    "df2['headline_text'] = df2['headline_text'].apply(\n",
    "    lambda x: \" \".join(x for x in x.split() if x not in freq))\n",
    "df2['headline_text'].head()"
   ]
  },
  {
   "cell_type": "markdown",
   "id": "b335089f",
   "metadata": {},
   "source": [
    "5. Remove Rare Words to Get Rid of Noise"
   ]
  },
  {
   "cell_type": "code",
   "execution_count": 26,
   "id": "00776081",
   "metadata": {},
   "outputs": [
    {
     "data": {
      "text/plain": [
       "kullus         1\n",
       "adig           1\n",
       "dwaram         1\n",
       "fagan          1\n",
       "sunderkanto    1\n",
       "generously     1\n",
       "mppdp          1\n",
       "flied          1\n",
       "paanchre1      1\n",
       "ngpmum         1\n",
       "dtype: int64"
      ]
     },
     "execution_count": 26,
     "metadata": {},
     "output_type": "execute_result"
    }
   ],
   "source": [
    "freq = pd.Series(' '.join(df2['headline_text']).split()).value_counts()[-10:]\n",
    "freq"
   ]
  },
  {
   "cell_type": "code",
   "execution_count": 27,
   "id": "59fc0972",
   "metadata": {},
   "outputs": [
    {
     "data": {
      "text/plain": [
       "0      status quo disturbed ayodhya says vajpayee fis...\n",
       "86     powerless north gropes dark think laxman tells...\n",
       "127    string pulled stephen hawking vajpayee gives b...\n",
       "280    light combat craft takes club class hawkings d...\n",
       "406    light combat craft takes club class hawkings d...\n",
       "Name: headline_text, dtype: object"
      ]
     },
     "execution_count": 27,
     "metadata": {},
     "output_type": "execute_result"
    }
   ],
   "source": [
    "freq = list(freq.index)\n",
    "df2['headline_text'] = df2['headline_text'].apply(\n",
    "    lambda x: \" \".join(x for x in x.split() if x not in freq))\n",
    "df2['headline_text'].head()"
   ]
  },
  {
   "cell_type": "code",
   "execution_count": 28,
   "id": "be86ca7b",
   "metadata": {},
   "outputs": [
    {
     "data": {
      "text/plain": [
       "(3630, 9)"
      ]
     },
     "execution_count": 28,
     "metadata": {},
     "output_type": "execute_result"
    }
   ],
   "source": [
    "df2.shape"
   ]
  },
  {
   "cell_type": "markdown",
   "id": "0995a870",
   "metadata": {},
   "source": [
    "6. Tokenization"
   ]
  },
  {
   "cell_type": "code",
   "execution_count": 29,
   "id": "f59d04a0",
   "metadata": {},
   "outputs": [
    {
     "data": {
      "text/plain": [
       "WordList(['0', 'status', 'quo', 'disturbed', 'ayodhya', 'says', 'vajpayee', 'fis', '86', 'powerless', 'north', 'gropes', 'dark', 'think', 'laxman', 'tells', '127', 'string', 'pulled', 'stephen', 'hawking', 'vajpayee', 'gives', 'b', '280', 'light', 'combat', 'craft', 'takes', 'club', 'class', 'hawkings', 'd', '406', 'light', 'combat', 'craft', 'takes', 'club', 'class', 'hawkings', 'd', '1044084', 'older', 'brother', 'dark', 'siblings', 'death', 'thought', 'supe', '1044772', 'top', 'sex', 'mistakes', 'men', 'make', 'alcohol', '6pack', 'salman', '1045470', 'ex', 'doesnt', 'want', 'pratik', 'saali', 'gaali', 'sudhir', 'tells', '1046166', 'neetu', 'chandra', 'denies', 'going', 'pantyless', 'aishwarya', '1046864', 'giving', 'kids', 'dressing', 'ak', 'hangals', 'ill', 'broke', 'dhob', 'Name', 'headline_text', 'Length', '3630', 'dtype', 'object'])"
      ]
     },
     "execution_count": 29,
     "metadata": {},
     "output_type": "execute_result"
    }
   ],
   "source": [
    "TextBlob(str(df2['headline_text'])).words"
   ]
  },
  {
   "cell_type": "markdown",
   "id": "dc799a92",
   "metadata": {},
   "source": [
    "7. Stemming"
   ]
  },
  {
   "cell_type": "code",
   "execution_count": 30,
   "id": "f6d99cf1",
   "metadata": {},
   "outputs": [
    {
     "data": {
      "text/plain": [
       "0      statu quo disturb ayodhya say vajpaye fissur h...\n",
       "86     powerless north grope dark think laxman tell s...\n",
       "127    string pull stephen hawk vajpaye give big push...\n",
       "280    light combat craft take club class hawk day li...\n",
       "406    light combat craft take club class hawk day ex...\n",
       "Name: headline_text, dtype: object"
      ]
     },
     "execution_count": 30,
     "metadata": {},
     "output_type": "execute_result"
    }
   ],
   "source": [
    "st = PorterStemmer()\n",
    "df2['headline_text'].apply(lambda x: \" \".join([st.stem(word) for word in x.split()])).head()"
   ]
  },
  {
   "cell_type": "markdown",
   "id": "161cf47d",
   "metadata": {},
   "source": [
    "8. Perform SENTIMENTAL ANALYSIS for each row in a Headline_text Column"
   ]
  },
  {
   "cell_type": "code",
   "execution_count": 31,
   "id": "7e370cba",
   "metadata": {},
   "outputs": [
    {
     "data": {
      "text/html": [
       "<div>\n",
       "<style scoped>\n",
       "    .dataframe tbody tr th:only-of-type {\n",
       "        vertical-align: middle;\n",
       "    }\n",
       "\n",
       "    .dataframe tbody tr th {\n",
       "        vertical-align: top;\n",
       "    }\n",
       "\n",
       "    .dataframe thead th {\n",
       "        text-align: right;\n",
       "    }\n",
       "</style>\n",
       "<table border=\"1\" class=\"dataframe\">\n",
       "  <thead>\n",
       "    <tr style=\"text-align: right;\">\n",
       "      <th></th>\n",
       "      <th>headline_text</th>\n",
       "      <th>sentiment</th>\n",
       "    </tr>\n",
       "  </thead>\n",
       "  <tbody>\n",
       "    <tr>\n",
       "      <th>0</th>\n",
       "      <td>status quo disturbed ayodhya says vajpayee fis...</td>\n",
       "      <td>0.121014</td>\n",
       "    </tr>\n",
       "    <tr>\n",
       "      <th>86</th>\n",
       "      <td>powerless north gropes dark think laxman tells...</td>\n",
       "      <td>0.112500</td>\n",
       "    </tr>\n",
       "    <tr>\n",
       "      <th>127</th>\n",
       "      <td>string pulled stephen hawking vajpayee gives b...</td>\n",
       "      <td>0.049416</td>\n",
       "    </tr>\n",
       "    <tr>\n",
       "      <th>280</th>\n",
       "      <td>light combat craft takes club class hawkings d...</td>\n",
       "      <td>0.271341</td>\n",
       "    </tr>\n",
       "    <tr>\n",
       "      <th>406</th>\n",
       "      <td>light combat craft takes club class hawkings d...</td>\n",
       "      <td>0.262500</td>\n",
       "    </tr>\n",
       "  </tbody>\n",
       "</table>\n",
       "</div>"
      ],
      "text/plain": [
       "                                         headline_text  sentiment\n",
       "0    status quo disturbed ayodhya says vajpayee fis...   0.121014\n",
       "86   powerless north gropes dark think laxman tells...   0.112500\n",
       "127  string pulled stephen hawking vajpayee gives b...   0.049416\n",
       "280  light combat craft takes club class hawkings d...   0.271341\n",
       "406  light combat craft takes club class hawkings d...   0.262500"
      ]
     },
     "execution_count": 31,
     "metadata": {},
     "output_type": "execute_result"
    }
   ],
   "source": [
    "df2['sentiment'] = df2['headline_text'].apply(lambda x: TextBlob(x).sentiment[0] )\n",
    "df2[['headline_text','sentiment']].head()"
   ]
  },
  {
   "cell_type": "markdown",
   "id": "d4be7ad0",
   "metadata": {},
   "source": [
    "9. Reset Index"
   ]
  },
  {
   "cell_type": "code",
   "execution_count": 32,
   "id": "c02ed3d9",
   "metadata": {},
   "outputs": [
    {
     "data": {
      "text/html": [
       "<div>\n",
       "<style scoped>\n",
       "    .dataframe tbody tr th:only-of-type {\n",
       "        vertical-align: middle;\n",
       "    }\n",
       "\n",
       "    .dataframe tbody tr th {\n",
       "        vertical-align: top;\n",
       "    }\n",
       "\n",
       "    .dataframe thead th {\n",
       "        text-align: right;\n",
       "    }\n",
       "</style>\n",
       "<table border=\"1\" class=\"dataframe\">\n",
       "  <thead>\n",
       "    <tr style=\"text-align: right;\">\n",
       "      <th></th>\n",
       "      <th>Date</th>\n",
       "      <th>headline_text</th>\n",
       "      <th>sentiment</th>\n",
       "    </tr>\n",
       "  </thead>\n",
       "  <tbody>\n",
       "    <tr>\n",
       "      <th>0</th>\n",
       "      <td>2001-01-02</td>\n",
       "      <td>status quo disturbed ayodhya says vajpayee fis...</td>\n",
       "      <td>0.121014</td>\n",
       "    </tr>\n",
       "    <tr>\n",
       "      <th>1</th>\n",
       "      <td>2001-01-03</td>\n",
       "      <td>powerless north gropes dark think laxman tells...</td>\n",
       "      <td>0.112500</td>\n",
       "    </tr>\n",
       "    <tr>\n",
       "      <th>2</th>\n",
       "      <td>2001-01-04</td>\n",
       "      <td>string pulled stephen hawking vajpayee gives b...</td>\n",
       "      <td>0.049416</td>\n",
       "    </tr>\n",
       "    <tr>\n",
       "      <th>3</th>\n",
       "      <td>2001-01-05</td>\n",
       "      <td>light combat craft takes club class hawkings d...</td>\n",
       "      <td>0.271341</td>\n",
       "    </tr>\n",
       "    <tr>\n",
       "      <th>4</th>\n",
       "      <td>2001-01-06</td>\n",
       "      <td>light combat craft takes club class hawkings d...</td>\n",
       "      <td>0.262500</td>\n",
       "    </tr>\n",
       "    <tr>\n",
       "      <th>...</th>\n",
       "      <td>...</td>\n",
       "      <td>...</td>\n",
       "      <td>...</td>\n",
       "    </tr>\n",
       "    <tr>\n",
       "      <th>3625</th>\n",
       "      <td>2011-01-17</td>\n",
       "      <td>older brother dark siblings death thought supe...</td>\n",
       "      <td>0.040018</td>\n",
       "    </tr>\n",
       "    <tr>\n",
       "      <th>3626</th>\n",
       "      <td>2011-01-18</td>\n",
       "      <td>top sex mistakes men make alcohol 6pack salman...</td>\n",
       "      <td>0.028897</td>\n",
       "    </tr>\n",
       "    <tr>\n",
       "      <th>3627</th>\n",
       "      <td>2011-01-19</td>\n",
       "      <td>ex doesnt want pratik saali gaali sudhir tells...</td>\n",
       "      <td>0.055350</td>\n",
       "    </tr>\n",
       "    <tr>\n",
       "      <th>3628</th>\n",
       "      <td>2011-01-20</td>\n",
       "      <td>neetu chandra denies going pantyless aishwarya...</td>\n",
       "      <td>0.035866</td>\n",
       "    </tr>\n",
       "    <tr>\n",
       "      <th>3629</th>\n",
       "      <td>2011-01-21</td>\n",
       "      <td>giving kids dressing ak hangals ill broke dhob...</td>\n",
       "      <td>0.009817</td>\n",
       "    </tr>\n",
       "  </tbody>\n",
       "</table>\n",
       "<p>3630 rows × 3 columns</p>\n",
       "</div>"
      ],
      "text/plain": [
       "           Date                                      headline_text  sentiment\n",
       "0    2001-01-02  status quo disturbed ayodhya says vajpayee fis...   0.121014\n",
       "1    2001-01-03  powerless north gropes dark think laxman tells...   0.112500\n",
       "2    2001-01-04  string pulled stephen hawking vajpayee gives b...   0.049416\n",
       "3    2001-01-05  light combat craft takes club class hawkings d...   0.271341\n",
       "4    2001-01-06  light combat craft takes club class hawkings d...   0.262500\n",
       "...         ...                                                ...        ...\n",
       "3625 2011-01-17  older brother dark siblings death thought supe...   0.040018\n",
       "3626 2011-01-18  top sex mistakes men make alcohol 6pack salman...   0.028897\n",
       "3627 2011-01-19  ex doesnt want pratik saali gaali sudhir tells...   0.055350\n",
       "3628 2011-01-20  neetu chandra denies going pantyless aishwarya...   0.035866\n",
       "3629 2011-01-21  giving kids dressing ak hangals ill broke dhob...   0.009817\n",
       "\n",
       "[3630 rows x 3 columns]"
      ]
     },
     "execution_count": 32,
     "metadata": {},
     "output_type": "execute_result"
    }
   ],
   "source": [
    "data2=df2[['Date','headline_text','sentiment']].reset_index()\n",
    "data2=data2.drop('index',axis=1)\n",
    "data2"
   ]
  },
  {
   "cell_type": "markdown",
   "id": "a4b55dd1",
   "metadata": {},
   "source": [
    " "
   ]
  },
  {
   "cell_type": "markdown",
   "id": "bd2d8f8c",
   "metadata": {},
   "source": [
    " - <b>Step 8:</b> Analyze Our SENSEX Data"
   ]
  },
  {
   "cell_type": "code",
   "execution_count": 33,
   "id": "e579e584",
   "metadata": {},
   "outputs": [
    {
     "data": {
      "text/html": [
       "<div>\n",
       "<style scoped>\n",
       "    .dataframe tbody tr th:only-of-type {\n",
       "        vertical-align: middle;\n",
       "    }\n",
       "\n",
       "    .dataframe tbody tr th {\n",
       "        vertical-align: top;\n",
       "    }\n",
       "\n",
       "    .dataframe thead th {\n",
       "        text-align: right;\n",
       "    }\n",
       "</style>\n",
       "<table border=\"1\" class=\"dataframe\">\n",
       "  <thead>\n",
       "    <tr style=\"text-align: right;\">\n",
       "      <th></th>\n",
       "      <th>Date</th>\n",
       "      <th>Open</th>\n",
       "      <th>High</th>\n",
       "      <th>Low</th>\n",
       "      <th>Close</th>\n",
       "      <th>Adj Close</th>\n",
       "      <th>Volume</th>\n",
       "    </tr>\n",
       "  </thead>\n",
       "  <tbody>\n",
       "    <tr>\n",
       "      <th>0</th>\n",
       "      <td>2001-01-02</td>\n",
       "      <td>483.549988</td>\n",
       "      <td>483.549988</td>\n",
       "      <td>461.380005</td>\n",
       "      <td>462.489990</td>\n",
       "      <td>462.489990</td>\n",
       "      <td>1129400000</td>\n",
       "    </tr>\n",
       "    <tr>\n",
       "      <th>1</th>\n",
       "      <td>2001-01-03</td>\n",
       "      <td>462.489990</td>\n",
       "      <td>484.390015</td>\n",
       "      <td>459.279999</td>\n",
       "      <td>484.390015</td>\n",
       "      <td>484.390015</td>\n",
       "      <td>188070000</td>\n",
       "    </tr>\n",
       "    <tr>\n",
       "      <th>2</th>\n",
       "      <td>2001-01-04</td>\n",
       "      <td>484.390015</td>\n",
       "      <td>484.390015</td>\n",
       "      <td>475.899994</td>\n",
       "      <td>477.200012</td>\n",
       "      <td>477.200012</td>\n",
       "      <td>216940000</td>\n",
       "    </tr>\n",
       "    <tr>\n",
       "      <th>3</th>\n",
       "      <td>2001-01-05</td>\n",
       "      <td>477.200012</td>\n",
       "      <td>477.309998</td>\n",
       "      <td>461.760010</td>\n",
       "      <td>463.140015</td>\n",
       "      <td>463.140015</td>\n",
       "      <td>1430800000</td>\n",
       "    </tr>\n",
       "    <tr>\n",
       "      <th>4</th>\n",
       "      <td>2001-01-08</td>\n",
       "      <td>463.140015</td>\n",
       "      <td>463.140015</td>\n",
       "      <td>457.559998</td>\n",
       "      <td>461.640015</td>\n",
       "      <td>461.640015</td>\n",
       "      <td>1115500000</td>\n",
       "    </tr>\n",
       "    <tr>\n",
       "      <th>...</th>\n",
       "      <td>...</td>\n",
       "      <td>...</td>\n",
       "      <td>...</td>\n",
       "      <td>...</td>\n",
       "      <td>...</td>\n",
       "      <td>...</td>\n",
       "      <td>...</td>\n",
       "    </tr>\n",
       "    <tr>\n",
       "      <th>2524</th>\n",
       "      <td>2011-01-14</td>\n",
       "      <td>800.650024</td>\n",
       "      <td>807.890015</td>\n",
       "      <td>799.049988</td>\n",
       "      <td>807.570007</td>\n",
       "      <td>807.570007</td>\n",
       "      <td>4661590000</td>\n",
       "    </tr>\n",
       "    <tr>\n",
       "      <th>2525</th>\n",
       "      <td>2011-01-18</td>\n",
       "      <td>807.570007</td>\n",
       "      <td>807.659973</td>\n",
       "      <td>801.039978</td>\n",
       "      <td>807.559998</td>\n",
       "      <td>807.559998</td>\n",
       "      <td>5284990000</td>\n",
       "    </tr>\n",
       "    <tr>\n",
       "      <th>2526</th>\n",
       "      <td>2011-01-19</td>\n",
       "      <td>806.679993</td>\n",
       "      <td>807.210022</td>\n",
       "      <td>785.849976</td>\n",
       "      <td>786.890015</td>\n",
       "      <td>786.890015</td>\n",
       "      <td>4743710000</td>\n",
       "    </tr>\n",
       "    <tr>\n",
       "      <th>2527</th>\n",
       "      <td>2011-01-20</td>\n",
       "      <td>781.960022</td>\n",
       "      <td>785.780029</td>\n",
       "      <td>775.580017</td>\n",
       "      <td>778.080017</td>\n",
       "      <td>778.080017</td>\n",
       "      <td>4935320000</td>\n",
       "    </tr>\n",
       "    <tr>\n",
       "      <th>2528</th>\n",
       "      <td>2011-01-21</td>\n",
       "      <td>781.960022</td>\n",
       "      <td>786.890015</td>\n",
       "      <td>773.119995</td>\n",
       "      <td>773.179993</td>\n",
       "      <td>773.179993</td>\n",
       "      <td>4935320000</td>\n",
       "    </tr>\n",
       "  </tbody>\n",
       "</table>\n",
       "<p>2529 rows × 7 columns</p>\n",
       "</div>"
      ],
      "text/plain": [
       "           Date        Open        High         Low       Close   Adj Close  \\\n",
       "0    2001-01-02  483.549988  483.549988  461.380005  462.489990  462.489990   \n",
       "1    2001-01-03  462.489990  484.390015  459.279999  484.390015  484.390015   \n",
       "2    2001-01-04  484.390015  484.390015  475.899994  477.200012  477.200012   \n",
       "3    2001-01-05  477.200012  477.309998  461.760010  463.140015  463.140015   \n",
       "4    2001-01-08  463.140015  463.140015  457.559998  461.640015  461.640015   \n",
       "...         ...         ...         ...         ...         ...         ...   \n",
       "2524 2011-01-14  800.650024  807.890015  799.049988  807.570007  807.570007   \n",
       "2525 2011-01-18  807.570007  807.659973  801.039978  807.559998  807.559998   \n",
       "2526 2011-01-19  806.679993  807.210022  785.849976  786.890015  786.890015   \n",
       "2527 2011-01-20  781.960022  785.780029  775.580017  778.080017  778.080017   \n",
       "2528 2011-01-21  781.960022  786.890015  773.119995  773.179993  773.179993   \n",
       "\n",
       "          Volume  \n",
       "0     1129400000  \n",
       "1      188070000  \n",
       "2      216940000  \n",
       "3     1430800000  \n",
       "4     1115500000  \n",
       "...          ...  \n",
       "2524  4661590000  \n",
       "2525  5284990000  \n",
       "2526  4743710000  \n",
       "2527  4935320000  \n",
       "2528  4935320000  \n",
       "\n",
       "[2529 rows x 7 columns]"
      ]
     },
     "execution_count": 33,
     "metadata": {},
     "output_type": "execute_result"
    }
   ],
   "source": [
    "data1=df1[(df1['Date']>='2001-01-02')&(df1['Date']<='2011-01-21')]\n",
    "data1"
   ]
  },
  {
   "cell_type": "code",
   "execution_count": 34,
   "id": "9c9f1ff8",
   "metadata": {},
   "outputs": [
    {
     "data": {
      "text/plain": [
       "<AxesSubplot:>"
      ]
     },
     "execution_count": 34,
     "metadata": {},
     "output_type": "execute_result"
    },
    {
     "data": {
      "image/png": "[encoded data removed]",
      "text/plain": [
       "<Figure size 1080x576 with 1 Axes>"
      ]
     },
     "metadata": {
      "needs_background": "light"
     },
     "output_type": "display_data"
    }
   ],
   "source": [
    "# Visualise the modified dataset\n",
    "data1[['High','Low','Open','Close']].plot(figsize=(15,8))"
   ]
  },
  {
   "cell_type": "code",
   "execution_count": 35,
   "id": "6984f058",
   "metadata": {},
   "outputs": [
    {
     "data": {
      "text/plain": [
       "<AxesSubplot:>"
      ]
     },
     "execution_count": 35,
     "metadata": {},
     "output_type": "execute_result"
    },
    {
     "data": {
      "image/png": "[encoded data removed]",
      "text/plain": [
       "<Figure size 1080x504 with 1 Axes>"
      ]
     },
     "metadata": {
      "needs_background": "light"
     },
     "output_type": "display_data"
    }
   ],
   "source": [
    "data1['Volume'].plot(figsize=(15,7))"
   ]
  },
  {
   "cell_type": "markdown",
   "id": "adbb5104",
   "metadata": {},
   "source": [
    " "
   ]
  },
  {
   "cell_type": "markdown",
   "id": "886c17e1",
   "metadata": {},
   "source": [
    " - <b>Step 9:</b> Merge Sensex and Headlines Dataset to create a HYBRID MODEL"
   ]
  },
  {
   "cell_type": "code",
   "execution_count": 36,
   "id": "824272cf",
   "metadata": {
    "scrolled": false
   },
   "outputs": [
    {
     "data": {
      "text/html": [
       "<div>\n",
       "<style scoped>\n",
       "    .dataframe tbody tr th:only-of-type {\n",
       "        vertical-align: middle;\n",
       "    }\n",
       "\n",
       "    .dataframe tbody tr th {\n",
       "        vertical-align: top;\n",
       "    }\n",
       "\n",
       "    .dataframe thead th {\n",
       "        text-align: right;\n",
       "    }\n",
       "</style>\n",
       "<table border=\"1\" class=\"dataframe\">\n",
       "  <thead>\n",
       "    <tr style=\"text-align: right;\">\n",
       "      <th></th>\n",
       "      <th>Date</th>\n",
       "      <th>headline_text</th>\n",
       "      <th>sentiment</th>\n",
       "      <th>Open</th>\n",
       "      <th>High</th>\n",
       "      <th>Low</th>\n",
       "      <th>Close</th>\n",
       "      <th>Adj Close</th>\n",
       "      <th>Volume</th>\n",
       "    </tr>\n",
       "  </thead>\n",
       "  <tbody>\n",
       "    <tr>\n",
       "      <th>0</th>\n",
       "      <td>2001-01-02</td>\n",
       "      <td>status quo disturbed ayodhya says vajpayee fis...</td>\n",
       "      <td>0.121014</td>\n",
       "      <td>483.549988</td>\n",
       "      <td>483.549988</td>\n",
       "      <td>461.380005</td>\n",
       "      <td>462.489990</td>\n",
       "      <td>462.489990</td>\n",
       "      <td>1129400000</td>\n",
       "    </tr>\n",
       "    <tr>\n",
       "      <th>1</th>\n",
       "      <td>2001-01-03</td>\n",
       "      <td>powerless north gropes dark think laxman tells...</td>\n",
       "      <td>0.112500</td>\n",
       "      <td>462.489990</td>\n",
       "      <td>484.390015</td>\n",
       "      <td>459.279999</td>\n",
       "      <td>484.390015</td>\n",
       "      <td>484.390015</td>\n",
       "      <td>188070000</td>\n",
       "    </tr>\n",
       "    <tr>\n",
       "      <th>2</th>\n",
       "      <td>2001-01-04</td>\n",
       "      <td>string pulled stephen hawking vajpayee gives b...</td>\n",
       "      <td>0.049416</td>\n",
       "      <td>484.390015</td>\n",
       "      <td>484.390015</td>\n",
       "      <td>475.899994</td>\n",
       "      <td>477.200012</td>\n",
       "      <td>477.200012</td>\n",
       "      <td>216940000</td>\n",
       "    </tr>\n",
       "    <tr>\n",
       "      <th>3</th>\n",
       "      <td>2001-01-05</td>\n",
       "      <td>light combat craft takes club class hawkings d...</td>\n",
       "      <td>0.271341</td>\n",
       "      <td>477.200012</td>\n",
       "      <td>477.309998</td>\n",
       "      <td>461.760010</td>\n",
       "      <td>463.140015</td>\n",
       "      <td>463.140015</td>\n",
       "      <td>1430800000</td>\n",
       "    </tr>\n",
       "    <tr>\n",
       "      <th>4</th>\n",
       "      <td>2001-01-08</td>\n",
       "      <td>sangh parivar babri panel ante frontrunner key...</td>\n",
       "      <td>-0.056988</td>\n",
       "      <td>463.140015</td>\n",
       "      <td>463.140015</td>\n",
       "      <td>457.559998</td>\n",
       "      <td>461.640015</td>\n",
       "      <td>461.640015</td>\n",
       "      <td>1115500000</td>\n",
       "    </tr>\n",
       "    <tr>\n",
       "      <th>...</th>\n",
       "      <td>...</td>\n",
       "      <td>...</td>\n",
       "      <td>...</td>\n",
       "      <td>...</td>\n",
       "      <td>...</td>\n",
       "      <td>...</td>\n",
       "      <td>...</td>\n",
       "      <td>...</td>\n",
       "      <td>...</td>\n",
       "    </tr>\n",
       "    <tr>\n",
       "      <th>2524</th>\n",
       "      <td>2011-01-14</td>\n",
       "      <td>cartoons yamla pagla deewana movie review srk ...</td>\n",
       "      <td>0.068394</td>\n",
       "      <td>800.650024</td>\n",
       "      <td>807.890015</td>\n",
       "      <td>799.049988</td>\n",
       "      <td>807.570007</td>\n",
       "      <td>807.570007</td>\n",
       "      <td>4661590000</td>\n",
       "    </tr>\n",
       "    <tr>\n",
       "      <th>2525</th>\n",
       "      <td>2011-01-18</td>\n",
       "      <td>top sex mistakes men make alcohol 6pack salman...</td>\n",
       "      <td>0.028897</td>\n",
       "      <td>807.570007</td>\n",
       "      <td>807.659973</td>\n",
       "      <td>801.039978</td>\n",
       "      <td>807.559998</td>\n",
       "      <td>807.559998</td>\n",
       "      <td>5284990000</td>\n",
       "    </tr>\n",
       "    <tr>\n",
       "      <th>2526</th>\n",
       "      <td>2011-01-19</td>\n",
       "      <td>ex doesnt want pratik saali gaali sudhir tells...</td>\n",
       "      <td>0.055350</td>\n",
       "      <td>806.679993</td>\n",
       "      <td>807.210022</td>\n",
       "      <td>785.849976</td>\n",
       "      <td>786.890015</td>\n",
       "      <td>786.890015</td>\n",
       "      <td>4743710000</td>\n",
       "    </tr>\n",
       "    <tr>\n",
       "      <th>2527</th>\n",
       "      <td>2011-01-20</td>\n",
       "      <td>neetu chandra denies going pantyless aishwarya...</td>\n",
       "      <td>0.035866</td>\n",
       "      <td>781.960022</td>\n",
       "      <td>785.780029</td>\n",
       "      <td>775.580017</td>\n",
       "      <td>778.080017</td>\n",
       "      <td>778.080017</td>\n",
       "      <td>4935320000</td>\n",
       "    </tr>\n",
       "    <tr>\n",
       "      <th>2528</th>\n",
       "      <td>2011-01-21</td>\n",
       "      <td>giving kids dressing ak hangals ill broke dhob...</td>\n",
       "      <td>0.009817</td>\n",
       "      <td>781.960022</td>\n",
       "      <td>786.890015</td>\n",
       "      <td>773.119995</td>\n",
       "      <td>773.179993</td>\n",
       "      <td>773.179993</td>\n",
       "      <td>4935320000</td>\n",
       "    </tr>\n",
       "  </tbody>\n",
       "</table>\n",
       "<p>2529 rows × 9 columns</p>\n",
       "</div>"
      ],
      "text/plain": [
       "           Date                                      headline_text  sentiment  \\\n",
       "0    2001-01-02  status quo disturbed ayodhya says vajpayee fis...   0.121014   \n",
       "1    2001-01-03  powerless north gropes dark think laxman tells...   0.112500   \n",
       "2    2001-01-04  string pulled stephen hawking vajpayee gives b...   0.049416   \n",
       "3    2001-01-05  light combat craft takes club class hawkings d...   0.271341   \n",
       "4    2001-01-08  sangh parivar babri panel ante frontrunner key...  -0.056988   \n",
       "...         ...                                                ...        ...   \n",
       "2524 2011-01-14  cartoons yamla pagla deewana movie review srk ...   0.068394   \n",
       "2525 2011-01-18  top sex mistakes men make alcohol 6pack salman...   0.028897   \n",
       "2526 2011-01-19  ex doesnt want pratik saali gaali sudhir tells...   0.055350   \n",
       "2527 2011-01-20  neetu chandra denies going pantyless aishwarya...   0.035866   \n",
       "2528 2011-01-21  giving kids dressing ak hangals ill broke dhob...   0.009817   \n",
       "\n",
       "            Open        High         Low       Close   Adj Close      Volume  \n",
       "0     483.549988  483.549988  461.380005  462.489990  462.489990  1129400000  \n",
       "1     462.489990  484.390015  459.279999  484.390015  484.390015   188070000  \n",
       "2     484.390015  484.390015  475.899994  477.200012  477.200012   216940000  \n",
       "3     477.200012  477.309998  461.760010  463.140015  463.140015  1430800000  \n",
       "4     463.140015  463.140015  457.559998  461.640015  461.640015  1115500000  \n",
       "...          ...         ...         ...         ...         ...         ...  \n",
       "2524  800.650024  807.890015  799.049988  807.570007  807.570007  4661590000  \n",
       "2525  807.570007  807.659973  801.039978  807.559998  807.559998  5284990000  \n",
       "2526  806.679993  807.210022  785.849976  786.890015  786.890015  4743710000  \n",
       "2527  781.960022  785.780029  775.580017  778.080017  778.080017  4935320000  \n",
       "2528  781.960022  786.890015  773.119995  773.179993  773.179993  4935320000  \n",
       "\n",
       "[2529 rows x 9 columns]"
      ]
     },
     "execution_count": 36,
     "metadata": {},
     "output_type": "execute_result"
    }
   ],
   "source": [
    "Data=pd.merge(data2,data1,on='Date',how='right')\n",
    "Data"
   ]
  },
  {
   "cell_type": "code",
   "execution_count": 37,
   "id": "db2fe248",
   "metadata": {},
   "outputs": [
    {
     "data": {
      "text/plain": [
       "0"
      ]
     },
     "execution_count": 37,
     "metadata": {},
     "output_type": "execute_result"
    }
   ],
   "source": [
    "# Removing Duplicates\n",
    "Data=Data.drop_duplicates()\n",
    "Data.duplicated().sum()"
   ]
  },
  {
   "cell_type": "markdown",
   "id": "a34381ae",
   "metadata": {},
   "source": [
    " "
   ]
  },
  {
   "cell_type": "markdown",
   "id": "9346a0fb",
   "metadata": {},
   "source": [
    " - <b>Step 10:</b> Sentimental Analysis On News Headlines"
   ]
  },
  {
   "cell_type": "code",
   "execution_count": 38,
   "id": "8a76af20",
   "metadata": {},
   "outputs": [
    {
     "name": "stdout",
     "output_type": "stream",
     "text": [
      "        Date                                      headline_text  sentiment  \\\n",
      "0 2001-01-02  status quo disturbed ayodhya says vajpayee fis...   0.121014   \n",
      "1 2001-01-03  powerless north gropes dark think laxman tells...   0.112500   \n",
      "2 2001-01-04  string pulled stephen hawking vajpayee gives b...   0.049416   \n",
      "3 2001-01-05  light combat craft takes club class hawkings d...   0.271341   \n",
      "4 2001-01-08  sangh parivar babri panel ante frontrunner key...  -0.056988   \n",
      "\n",
      "         Open        High         Low       Close   Adj Close      Volume  \\\n",
      "0  483.549988  483.549988  461.380005  462.489990  462.489990  1129400000   \n",
      "1  462.489990  484.390015  459.279999  484.390015  484.390015   188070000   \n",
      "2  484.390015  484.390015  475.899994  477.200012  477.200012   216940000   \n",
      "3  477.200012  477.309998  461.760010  463.140015  463.140015  1430800000   \n",
      "4  463.140015  463.140015  457.559998  461.640015  461.640015  1115500000   \n",
      "\n",
      "                                              scores  \n",
      "0  {'neg': 0.17, 'neu': 0.726, 'pos': 0.105, 'com...  \n",
      "1  {'neg': 0.141, 'neu': 0.711, 'pos': 0.149, 'co...  \n",
      "2  {'neg': 0.126, 'neu': 0.748, 'pos': 0.126, 'co...  \n",
      "3  {'neg': 0.147, 'neu': 0.66, 'pos': 0.193, 'com...  \n",
      "4  {'neg': 0.155, 'neu': 0.753, 'pos': 0.092, 'co...  \n"
     ]
    },
    {
     "data": {
      "text/html": [
       "<div>\n",
       "<style scoped>\n",
       "    .dataframe tbody tr th:only-of-type {\n",
       "        vertical-align: middle;\n",
       "    }\n",
       "\n",
       "    .dataframe tbody tr th {\n",
       "        vertical-align: top;\n",
       "    }\n",
       "\n",
       "    .dataframe thead th {\n",
       "        text-align: right;\n",
       "    }\n",
       "</style>\n",
       "<table border=\"1\" class=\"dataframe\">\n",
       "  <thead>\n",
       "    <tr style=\"text-align: right;\">\n",
       "      <th></th>\n",
       "      <th>Date</th>\n",
       "      <th>headline_text</th>\n",
       "      <th>sentiment</th>\n",
       "      <th>Open</th>\n",
       "      <th>High</th>\n",
       "      <th>Low</th>\n",
       "      <th>Close</th>\n",
       "      <th>Adj Close</th>\n",
       "      <th>Volume</th>\n",
       "      <th>compound</th>\n",
       "      <th>positive</th>\n",
       "      <th>negative</th>\n",
       "      <th>neutral</th>\n",
       "    </tr>\n",
       "  </thead>\n",
       "  <tbody>\n",
       "    <tr>\n",
       "      <th>0</th>\n",
       "      <td>2001-01-02</td>\n",
       "      <td>status quo disturbed ayodhya says vajpayee fis...</td>\n",
       "      <td>0.121014</td>\n",
       "      <td>483.549988</td>\n",
       "      <td>483.549988</td>\n",
       "      <td>461.380005</td>\n",
       "      <td>462.489990</td>\n",
       "      <td>462.489990</td>\n",
       "      <td>1129400000</td>\n",
       "      <td>-0.9662</td>\n",
       "      <td>0.105</td>\n",
       "      <td>0.170</td>\n",
       "      <td>0.726</td>\n",
       "    </tr>\n",
       "    <tr>\n",
       "      <th>1</th>\n",
       "      <td>2001-01-03</td>\n",
       "      <td>powerless north gropes dark think laxman tells...</td>\n",
       "      <td>0.112500</td>\n",
       "      <td>462.489990</td>\n",
       "      <td>484.390015</td>\n",
       "      <td>459.279999</td>\n",
       "      <td>484.390015</td>\n",
       "      <td>484.390015</td>\n",
       "      <td>188070000</td>\n",
       "      <td>0.4019</td>\n",
       "      <td>0.149</td>\n",
       "      <td>0.141</td>\n",
       "      <td>0.711</td>\n",
       "    </tr>\n",
       "    <tr>\n",
       "      <th>2</th>\n",
       "      <td>2001-01-04</td>\n",
       "      <td>string pulled stephen hawking vajpayee gives b...</td>\n",
       "      <td>0.049416</td>\n",
       "      <td>484.390015</td>\n",
       "      <td>484.390015</td>\n",
       "      <td>475.899994</td>\n",
       "      <td>477.200012</td>\n",
       "      <td>477.200012</td>\n",
       "      <td>216940000</td>\n",
       "      <td>0.5423</td>\n",
       "      <td>0.126</td>\n",
       "      <td>0.126</td>\n",
       "      <td>0.748</td>\n",
       "    </tr>\n",
       "    <tr>\n",
       "      <th>3</th>\n",
       "      <td>2001-01-05</td>\n",
       "      <td>light combat craft takes club class hawkings d...</td>\n",
       "      <td>0.271341</td>\n",
       "      <td>477.200012</td>\n",
       "      <td>477.309998</td>\n",
       "      <td>461.760010</td>\n",
       "      <td>463.140015</td>\n",
       "      <td>463.140015</td>\n",
       "      <td>1430800000</td>\n",
       "      <td>0.9841</td>\n",
       "      <td>0.193</td>\n",
       "      <td>0.147</td>\n",
       "      <td>0.660</td>\n",
       "    </tr>\n",
       "    <tr>\n",
       "      <th>4</th>\n",
       "      <td>2001-01-08</td>\n",
       "      <td>sangh parivar babri panel ante frontrunner key...</td>\n",
       "      <td>-0.056988</td>\n",
       "      <td>463.140015</td>\n",
       "      <td>463.140015</td>\n",
       "      <td>457.559998</td>\n",
       "      <td>461.640015</td>\n",
       "      <td>461.640015</td>\n",
       "      <td>1115500000</td>\n",
       "      <td>-0.9709</td>\n",
       "      <td>0.092</td>\n",
       "      <td>0.155</td>\n",
       "      <td>0.753</td>\n",
       "    </tr>\n",
       "    <tr>\n",
       "      <th>...</th>\n",
       "      <td>...</td>\n",
       "      <td>...</td>\n",
       "      <td>...</td>\n",
       "      <td>...</td>\n",
       "      <td>...</td>\n",
       "      <td>...</td>\n",
       "      <td>...</td>\n",
       "      <td>...</td>\n",
       "      <td>...</td>\n",
       "      <td>...</td>\n",
       "      <td>...</td>\n",
       "      <td>...</td>\n",
       "      <td>...</td>\n",
       "    </tr>\n",
       "    <tr>\n",
       "      <th>2524</th>\n",
       "      <td>2011-01-14</td>\n",
       "      <td>cartoons yamla pagla deewana movie review srk ...</td>\n",
       "      <td>0.068394</td>\n",
       "      <td>800.650024</td>\n",
       "      <td>807.890015</td>\n",
       "      <td>799.049988</td>\n",
       "      <td>807.570007</td>\n",
       "      <td>807.570007</td>\n",
       "      <td>4661590000</td>\n",
       "      <td>-0.9998</td>\n",
       "      <td>0.108</td>\n",
       "      <td>0.168</td>\n",
       "      <td>0.725</td>\n",
       "    </tr>\n",
       "    <tr>\n",
       "      <th>2525</th>\n",
       "      <td>2011-01-18</td>\n",
       "      <td>top sex mistakes men make alcohol 6pack salman...</td>\n",
       "      <td>0.028897</td>\n",
       "      <td>807.570007</td>\n",
       "      <td>807.659973</td>\n",
       "      <td>801.039978</td>\n",
       "      <td>807.559998</td>\n",
       "      <td>807.559998</td>\n",
       "      <td>5284990000</td>\n",
       "      <td>-0.9998</td>\n",
       "      <td>0.102</td>\n",
       "      <td>0.162</td>\n",
       "      <td>0.736</td>\n",
       "    </tr>\n",
       "    <tr>\n",
       "      <th>2526</th>\n",
       "      <td>2011-01-19</td>\n",
       "      <td>ex doesnt want pratik saali gaali sudhir tells...</td>\n",
       "      <td>0.055350</td>\n",
       "      <td>806.679993</td>\n",
       "      <td>807.210022</td>\n",
       "      <td>785.849976</td>\n",
       "      <td>786.890015</td>\n",
       "      <td>786.890015</td>\n",
       "      <td>4743710000</td>\n",
       "      <td>-0.9997</td>\n",
       "      <td>0.095</td>\n",
       "      <td>0.151</td>\n",
       "      <td>0.755</td>\n",
       "    </tr>\n",
       "    <tr>\n",
       "      <th>2527</th>\n",
       "      <td>2011-01-20</td>\n",
       "      <td>neetu chandra denies going pantyless aishwarya...</td>\n",
       "      <td>0.035866</td>\n",
       "      <td>781.960022</td>\n",
       "      <td>785.780029</td>\n",
       "      <td>775.580017</td>\n",
       "      <td>778.080017</td>\n",
       "      <td>778.080017</td>\n",
       "      <td>4935320000</td>\n",
       "      <td>-0.9998</td>\n",
       "      <td>0.107</td>\n",
       "      <td>0.164</td>\n",
       "      <td>0.728</td>\n",
       "    </tr>\n",
       "    <tr>\n",
       "      <th>2528</th>\n",
       "      <td>2011-01-21</td>\n",
       "      <td>giving kids dressing ak hangals ill broke dhob...</td>\n",
       "      <td>0.009817</td>\n",
       "      <td>781.960022</td>\n",
       "      <td>786.890015</td>\n",
       "      <td>773.119995</td>\n",
       "      <td>773.179993</td>\n",
       "      <td>773.179993</td>\n",
       "      <td>4935320000</td>\n",
       "      <td>-0.9999</td>\n",
       "      <td>0.098</td>\n",
       "      <td>0.187</td>\n",
       "      <td>0.716</td>\n",
       "    </tr>\n",
       "  </tbody>\n",
       "</table>\n",
       "<p>2529 rows × 13 columns</p>\n",
       "</div>"
      ],
      "text/plain": [
       "           Date                                      headline_text  sentiment  \\\n",
       "0    2001-01-02  status quo disturbed ayodhya says vajpayee fis...   0.121014   \n",
       "1    2001-01-03  powerless north gropes dark think laxman tells...   0.112500   \n",
       "2    2001-01-04  string pulled stephen hawking vajpayee gives b...   0.049416   \n",
       "3    2001-01-05  light combat craft takes club class hawkings d...   0.271341   \n",
       "4    2001-01-08  sangh parivar babri panel ante frontrunner key...  -0.056988   \n",
       "...         ...                                                ...        ...   \n",
       "2524 2011-01-14  cartoons yamla pagla deewana movie review srk ...   0.068394   \n",
       "2525 2011-01-18  top sex mistakes men make alcohol 6pack salman...   0.028897   \n",
       "2526 2011-01-19  ex doesnt want pratik saali gaali sudhir tells...   0.055350   \n",
       "2527 2011-01-20  neetu chandra denies going pantyless aishwarya...   0.035866   \n",
       "2528 2011-01-21  giving kids dressing ak hangals ill broke dhob...   0.009817   \n",
       "\n",
       "            Open        High         Low       Close   Adj Close      Volume  \\\n",
       "0     483.549988  483.549988  461.380005  462.489990  462.489990  1129400000   \n",
       "1     462.489990  484.390015  459.279999  484.390015  484.390015   188070000   \n",
       "2     484.390015  484.390015  475.899994  477.200012  477.200012   216940000   \n",
       "3     477.200012  477.309998  461.760010  463.140015  463.140015  1430800000   \n",
       "4     463.140015  463.140015  457.559998  461.640015  461.640015  1115500000   \n",
       "...          ...         ...         ...         ...         ...         ...   \n",
       "2524  800.650024  807.890015  799.049988  807.570007  807.570007  4661590000   \n",
       "2525  807.570007  807.659973  801.039978  807.559998  807.559998  5284990000   \n",
       "2526  806.679993  807.210022  785.849976  786.890015  786.890015  4743710000   \n",
       "2527  781.960022  785.780029  775.580017  778.080017  778.080017  4935320000   \n",
       "2528  781.960022  786.890015  773.119995  773.179993  773.179993  4935320000   \n",
       "\n",
       "      compound  positive  negative  neutral  \n",
       "0      -0.9662     0.105     0.170    0.726  \n",
       "1       0.4019     0.149     0.141    0.711  \n",
       "2       0.5423     0.126     0.126    0.748  \n",
       "3       0.9841     0.193     0.147    0.660  \n",
       "4      -0.9709     0.092     0.155    0.753  \n",
       "...        ...       ...       ...      ...  \n",
       "2524   -0.9998     0.108     0.168    0.725  \n",
       "2525   -0.9998     0.102     0.162    0.736  \n",
       "2526   -0.9997     0.095     0.151    0.755  \n",
       "2527   -0.9998     0.107     0.164    0.728  \n",
       "2528   -0.9999     0.098     0.187    0.716  \n",
       "\n",
       "[2529 rows x 13 columns]"
      ]
     },
     "execution_count": 38,
     "metadata": {},
     "output_type": "execute_result"
    }
   ],
   "source": [
    "# Sentimental Analysis\n",
    "analyzer = SentimentIntensityAnalyzer()\n",
    "Data['scores'] = Data['headline_text'].apply(lambda x: analyzer.polarity_scores(str(x)))\n",
    "print(Data.head())\n",
    "\n",
    "# Scoring the Sentiments\n",
    "Data['compound']=Data['scores'].apply(lambda score_dict: score_dict['compound']) \n",
    "Data['positive']=Data['scores'].apply(lambda score_dict: score_dict['pos'])\n",
    "Data['negative']=Data['scores'].apply(lambda score_dict: score_dict['neg']) \n",
    "Data['neutral']=Data['scores'].apply(lambda score_dict: score_dict['neu'])\n",
    "\n",
    "# Replacing scores column with positive, negative and neutral columns\n",
    "Data=Data.drop('scores',axis=1)\n",
    "Data"
   ]
  },
  {
   "cell_type": "markdown",
   "id": "cc2d8793",
   "metadata": {},
   "source": [
    " "
   ]
  },
  {
   "cell_type": "markdown",
   "id": "4db0c647",
   "metadata": {},
   "source": [
    " - <b>Step 11:</b> Stock Market Analysis\n",
    "<blockquote>Creating a new Column called 'Price_up' by having logical values(0 AND 1) in it. Here 1 represents INCREASE IN STOCK while 0 represents DECREASE/REMAIN UNCHANGED</blockquote>"
   ]
  },
  {
   "cell_type": "code",
   "execution_count": 39,
   "id": "f9ec22cb",
   "metadata": {},
   "outputs": [
    {
     "data": {
      "text/html": [
       "<div>\n",
       "<style scoped>\n",
       "    .dataframe tbody tr th:only-of-type {\n",
       "        vertical-align: middle;\n",
       "    }\n",
       "\n",
       "    .dataframe tbody tr th {\n",
       "        vertical-align: top;\n",
       "    }\n",
       "\n",
       "    .dataframe thead th {\n",
       "        text-align: right;\n",
       "    }\n",
       "</style>\n",
       "<table border=\"1\" class=\"dataframe\">\n",
       "  <thead>\n",
       "    <tr style=\"text-align: right;\">\n",
       "      <th></th>\n",
       "      <th>Date</th>\n",
       "      <th>headline_text</th>\n",
       "      <th>sentiment</th>\n",
       "      <th>Open</th>\n",
       "      <th>High</th>\n",
       "      <th>Low</th>\n",
       "      <th>Close</th>\n",
       "      <th>Adj Close</th>\n",
       "      <th>Volume</th>\n",
       "      <th>compound</th>\n",
       "      <th>positive</th>\n",
       "      <th>negative</th>\n",
       "      <th>neutral</th>\n",
       "      <th>Price_up</th>\n",
       "    </tr>\n",
       "  </thead>\n",
       "  <tbody>\n",
       "    <tr>\n",
       "      <th>0</th>\n",
       "      <td>2001-01-02</td>\n",
       "      <td>status quo disturbed ayodhya says vajpayee fis...</td>\n",
       "      <td>0.121014</td>\n",
       "      <td>483.549988</td>\n",
       "      <td>483.549988</td>\n",
       "      <td>461.380005</td>\n",
       "      <td>462.489990</td>\n",
       "      <td>462.489990</td>\n",
       "      <td>1129400000</td>\n",
       "      <td>-0.9662</td>\n",
       "      <td>0.105</td>\n",
       "      <td>0.170</td>\n",
       "      <td>0.726</td>\n",
       "      <td>1</td>\n",
       "    </tr>\n",
       "    <tr>\n",
       "      <th>1</th>\n",
       "      <td>2001-01-03</td>\n",
       "      <td>powerless north gropes dark think laxman tells...</td>\n",
       "      <td>0.112500</td>\n",
       "      <td>462.489990</td>\n",
       "      <td>484.390015</td>\n",
       "      <td>459.279999</td>\n",
       "      <td>484.390015</td>\n",
       "      <td>484.390015</td>\n",
       "      <td>188070000</td>\n",
       "      <td>0.4019</td>\n",
       "      <td>0.149</td>\n",
       "      <td>0.141</td>\n",
       "      <td>0.711</td>\n",
       "      <td>0</td>\n",
       "    </tr>\n",
       "    <tr>\n",
       "      <th>2</th>\n",
       "      <td>2001-01-04</td>\n",
       "      <td>string pulled stephen hawking vajpayee gives b...</td>\n",
       "      <td>0.049416</td>\n",
       "      <td>484.390015</td>\n",
       "      <td>484.390015</td>\n",
       "      <td>475.899994</td>\n",
       "      <td>477.200012</td>\n",
       "      <td>477.200012</td>\n",
       "      <td>216940000</td>\n",
       "      <td>0.5423</td>\n",
       "      <td>0.126</td>\n",
       "      <td>0.126</td>\n",
       "      <td>0.748</td>\n",
       "      <td>0</td>\n",
       "    </tr>\n",
       "    <tr>\n",
       "      <th>3</th>\n",
       "      <td>2001-01-05</td>\n",
       "      <td>light combat craft takes club class hawkings d...</td>\n",
       "      <td>0.271341</td>\n",
       "      <td>477.200012</td>\n",
       "      <td>477.309998</td>\n",
       "      <td>461.760010</td>\n",
       "      <td>463.140015</td>\n",
       "      <td>463.140015</td>\n",
       "      <td>1430800000</td>\n",
       "      <td>0.9841</td>\n",
       "      <td>0.193</td>\n",
       "      <td>0.147</td>\n",
       "      <td>0.660</td>\n",
       "      <td>0</td>\n",
       "    </tr>\n",
       "    <tr>\n",
       "      <th>4</th>\n",
       "      <td>2001-01-08</td>\n",
       "      <td>sangh parivar babri panel ante frontrunner key...</td>\n",
       "      <td>-0.056988</td>\n",
       "      <td>463.140015</td>\n",
       "      <td>463.140015</td>\n",
       "      <td>457.559998</td>\n",
       "      <td>461.640015</td>\n",
       "      <td>461.640015</td>\n",
       "      <td>1115500000</td>\n",
       "      <td>-0.9709</td>\n",
       "      <td>0.092</td>\n",
       "      <td>0.155</td>\n",
       "      <td>0.753</td>\n",
       "      <td>1</td>\n",
       "    </tr>\n",
       "  </tbody>\n",
       "</table>\n",
       "</div>"
      ],
      "text/plain": [
       "        Date                                      headline_text  sentiment  \\\n",
       "0 2001-01-02  status quo disturbed ayodhya says vajpayee fis...   0.121014   \n",
       "1 2001-01-03  powerless north gropes dark think laxman tells...   0.112500   \n",
       "2 2001-01-04  string pulled stephen hawking vajpayee gives b...   0.049416   \n",
       "3 2001-01-05  light combat craft takes club class hawkings d...   0.271341   \n",
       "4 2001-01-08  sangh parivar babri panel ante frontrunner key...  -0.056988   \n",
       "\n",
       "         Open        High         Low       Close   Adj Close      Volume  \\\n",
       "0  483.549988  483.549988  461.380005  462.489990  462.489990  1129400000   \n",
       "1  462.489990  484.390015  459.279999  484.390015  484.390015   188070000   \n",
       "2  484.390015  484.390015  475.899994  477.200012  477.200012   216940000   \n",
       "3  477.200012  477.309998  461.760010  463.140015  463.140015  1430800000   \n",
       "4  463.140015  463.140015  457.559998  461.640015  461.640015  1115500000   \n",
       "\n",
       "   compound  positive  negative  neutral  Price_up  \n",
       "0   -0.9662     0.105     0.170    0.726         1  \n",
       "1    0.4019     0.149     0.141    0.711         0  \n",
       "2    0.5423     0.126     0.126    0.748         0  \n",
       "3    0.9841     0.193     0.147    0.660         0  \n",
       "4   -0.9709     0.092     0.155    0.753         1  "
      ]
     },
     "execution_count": 39,
     "metadata": {},
     "output_type": "execute_result"
    }
   ],
   "source": [
    "Data['Price_up']=np.where(Data['Close'].shift(-1)>Data['Close'],1,0)\n",
    "Data.head()"
   ]
  },
  {
   "cell_type": "markdown",
   "id": "40d499b0",
   "metadata": {},
   "source": [
    " "
   ]
  },
  {
   "cell_type": "markdown",
   "id": "f477f461",
   "metadata": {},
   "source": [
    " - <b>Step 12:</b> Split the Dataset"
   ]
  },
  {
   "cell_type": "code",
   "execution_count": 40,
   "id": "f76b06b7",
   "metadata": {},
   "outputs": [
    {
     "name": "stdout",
     "output_type": "stream",
     "text": [
      "(2023, 10)\n",
      "(506, 10)\n"
     ]
    }
   ],
   "source": [
    "# Splitting Dataset into X and Y\n",
    "X=Data[['sentiment', 'Open', 'High', 'Low','Close',\n",
    "          'Volume', 'compound', 'positive', 'negative', 'neutral']]\n",
    "y=Data['Price_up']\n",
    "\n",
    "# Splitting Dataset into train and test set\n",
    "train_X, val_X, train_y, val_y = train_test_split(X, y, test_size=0.2, random_state=0)\n",
    "\n",
    "print(train_X.shape)\n",
    "print(val_X.shape)"
   ]
  },
  {
   "cell_type": "markdown",
   "id": "d7a3070a",
   "metadata": {},
   "source": [
    "Here, the length of testing data is 506 which is 20% of 2529 (length of original dataset). The general split ratio has been taken into consideration, but it can be changed using the test_size attribute to train_test_split function."
   ]
  },
  {
   "cell_type": "markdown",
   "id": "5e34f940",
   "metadata": {},
   "source": [
    " "
   ]
  },
  {
   "cell_type": "markdown",
   "id": "85f38eeb",
   "metadata": {},
   "source": [
    " - <b>Step 13:</b> Search Optimal Parameters"
   ]
  },
  {
   "cell_type": "code",
   "execution_count": 41,
   "id": "3b092dcf",
   "metadata": {},
   "outputs": [],
   "source": [
    "# The fillna() function is used to fill NA/NaN values\n",
    "train_X = train_X.fillna(train_X.mean())"
   ]
  },
  {
   "cell_type": "code",
   "execution_count": 42,
   "id": "16cb1ae8",
   "metadata": {},
   "outputs": [
    {
     "data": {
      "text/plain": [
       "GridSearchCV(cv=5, estimator=RandomForestClassifier(),\n",
       "             param_grid=[{'max_depth': [10, 20], 'max_features': ['sqrt', 0.2],\n",
       "                          'n_estimators': [10, 20]}],\n",
       "             scoring='roc_auc')"
      ]
     },
     "execution_count": 42,
     "metadata": {},
     "output_type": "execute_result"
    }
   ],
   "source": [
    "# Grid search for Optimal Parameters using Random Forest Classifier\n",
    "tuned_parameters=[{'max_depth':[10,20], 'n_estimators':[10,20], 'max_features':['sqrt',0.2]}]\n",
    "radm_clf=RandomForestClassifier()\n",
    "clf=GridSearchCV(radm_clf, tuned_parameters,cv=5,scoring='roc_auc')\n",
    "clf.fit(train_X,train_y)"
   ]
  },
  {
   "cell_type": "code",
   "execution_count": 43,
   "id": "12a253d8",
   "metadata": {},
   "outputs": [
    {
     "data": {
      "text/plain": [
       "0.524099886093508"
      ]
     },
     "execution_count": 43,
     "metadata": {},
     "output_type": "execute_result"
    }
   ],
   "source": [
    "# Best Score\n",
    "clf.best_score_"
   ]
  },
  {
   "cell_type": "code",
   "execution_count": 44,
   "id": "cbefdb0d",
   "metadata": {},
   "outputs": [
    {
     "data": {
      "text/plain": [
       "{'max_depth': 20, 'max_features': 0.2, 'n_estimators': 20}"
      ]
     },
     "execution_count": 44,
     "metadata": {},
     "output_type": "execute_result"
    }
   ],
   "source": [
    "# Best Parameters\n",
    "clf.best_params_"
   ]
  },
  {
   "cell_type": "markdown",
   "id": "b2d70f85",
   "metadata": {},
   "source": [
    " "
   ]
  },
  {
   "cell_type": "markdown",
   "id": "373f83d1",
   "metadata": {},
   "source": [
    " - <b>Step 14:</b>  Build and Train the Model"
   ]
  },
  {
   "cell_type": "code",
   "execution_count": 45,
   "id": "48bbfed0",
   "metadata": {},
   "outputs": [
    {
     "name": "stdout",
     "output_type": "stream",
     "text": [
      "Training complete.\n"
     ]
    }
   ],
   "source": [
    "randomclassifier=RandomForestClassifier(n_estimators=20,max_features='sqrt')\n",
    "randomclassifier.fit(train_X,train_y) # Train the model\n",
    "\n",
    "print(\"Training complete.\")"
   ]
  },
  {
   "cell_type": "markdown",
   "id": "635dd307",
   "metadata": {},
   "source": [
    " "
   ]
  },
  {
   "cell_type": "markdown",
   "id": "b9d4ecf5",
   "metadata": {},
   "source": [
    " - <b>Step 15:</b> Model Evaluation"
   ]
  },
  {
   "cell_type": "markdown",
   "id": "e3150fd3",
   "metadata": {},
   "source": [
    "TN / True Negative: when a case was negative and predicted negative.\n",
    "<br>TP / True Positive: when a case was positive and predicted positive.\n",
    "<br>FN / False Negative: when a case was positive but predicted negative.\n",
    "<br>FP / False Positive: when a case was negative but predicted positive.\n",
    "<br>\n",
    "<br><i>Accuracy:</i> Accuracy is simply the rate of correct classifications. It is the true positives and negatives to all predictions.\n",
    "<br><i>Precision:</i> Precision is the ability of a classifier not to label an instance positive that is actually negative. For each class it is defined as the ratio of true positives to the sum of true and false positives.\n",
    "<br><i>Recall:</i> Recall is the ability of a classifier to find all positive instances. For each class it is defined as the ratio of true positives to the sum of true positives and false negatives.\n",
    "<br><i>F1-Score:</i> The F1 score is a weighted harmonic mean of precision and recall such that the best score is 1.0 and the worst is 0.0.\n",
    "<br><i>Support:</i> The support is the number of samples of the true response that lie in that class."
   ]
  },
  {
   "cell_type": "code",
   "execution_count": 46,
   "id": "4ea3eeff",
   "metadata": {},
   "outputs": [
    {
     "name": "stdout",
     "output_type": "stream",
     "text": [
      "              precision    recall  f1-score   support\n",
      "\n",
      "           0       0.49      0.54      0.52       251\n",
      "           1       0.50      0.46      0.48       255\n",
      "\n",
      "    accuracy                           0.50       506\n",
      "   macro avg       0.50      0.50      0.50       506\n",
      "weighted avg       0.50      0.50      0.50       506\n",
      "\n"
     ]
    }
   ],
   "source": [
    "# Classification Report\n",
    "val_X = val_X.fillna(val_X.mean())\n",
    "pred_y=randomclassifier.predict(val_X)\n",
    "\n",
    "print(metrics.classification_report(val_y,pred_y))"
   ]
  },
  {
   "cell_type": "markdown",
   "id": "756812e0",
   "metadata": {},
   "source": [
    "Mean Absolute Error: Absolute error refers to the magnitude of difference between the prediction of an observation and the true value of that observation.\n",
    "<br>Mean Squared Error: It is the sum, over all the data points, of the square of the difference between the predicted and actual target variables, divided by the number of data points.\n",
    "<br>Root Mean Squared Error: It is the square root of Mean Squared Error.\n",
    "<br>R2 Score: coefficient of determination; (total variance explained by model) / (total variance); The value ranges from 0 to 1 and should ideally be close to 1."
   ]
  },
  {
   "cell_type": "code",
   "execution_count": 47,
   "id": "92609942",
   "metadata": {},
   "outputs": [
    {
     "name": "stdout",
     "output_type": "stream",
     "text": [
      "Mean Absolute Error: 0.5019762845849802\n",
      "Mean Squared Error: 0.5019762845849802\n",
      "Root Mean Squared Error: 0.7085028472666713\n",
      "R2 Score: 1.0080306226076092\n"
     ]
    }
   ],
   "source": [
    "# Errors\n",
    "print('Mean Absolute Error:', metrics.mean_absolute_error(val_y,pred_y))\n",
    "print('Mean Squared Error:', metrics.mean_squared_error(val_y,pred_y))\n",
    "print('Root Mean Squared Error:', np.sqrt(metrics.mean_squared_error(val_y,pred_y)))\n",
    "print('R2 Score:', -metrics.r2_score(val_y, pred_y))"
   ]
  },
  {
   "cell_type": "markdown",
   "id": "6188efcd",
   "metadata": {},
   "source": [
    "# <b>_____________</b>"
   ]
  }
 ],
 "metadata": {
  "kernelspec": {
   "display_name": "Python 3",
   "language": "python",
   "name": "python3"
  },
  "language_info": {
   "codemirror_mode": {
    "name": "ipython",
    "version": 3
   },
   "file_extension": ".py",
   "mimetype": "text/x-python",
   "name": "python",
   "nbconvert_exporter": "python",
   "pygments_lexer": "ipython3",
   "version": "3.6.9"
  }
 },
 "nbformat": 4,
 "nbformat_minor": 5
}
